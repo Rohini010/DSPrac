{
 "cells": [
  {
   "cell_type": "code",
   "execution_count": 4,
   "id": "e0c00f4c",
   "metadata": {},
   "outputs": [
    {
     "name": "stdout",
     "output_type": "stream",
     "text": [
      "Hello World!!!!!\n",
      "This is Rohini here\n"
     ]
    }
   ],
   "source": [
    "with open('sample.txt',mode='r') as file:\n",
    "  for i in file:\n",
    "    print(i.strip())"
   ]
  },
  {
   "cell_type": "code",
   "execution_count": 13,
   "id": "88a87638",
   "metadata": {},
   "outputs": [],
   "source": [
    "# Write a function that writes a list of strings to a file named `output.txt`, with each string on a new line.\n",
    "\n",
    "# with open('log.txt',mode='w') as file:\n",
    "#   file.write(\"hello world \\n\")\n",
    "#   file.write(\"this is file handling assignment 2\")\n",
    "#   file.write(\"logging\")\n",
    "\n",
    "# pre req for Q5\n",
    "with open('reverse.txt',mode='w') as file:\n",
    "  file.write(\"hello world \\n\")\n",
    "  file.write(\"this is file handling assignment 5\")\n",
    "  file.write(\"logging\")"
   ]
  },
  {
   "cell_type": "code",
   "execution_count": 6,
   "id": "14403698",
   "metadata": {},
   "outputs": [
    {
     "data": {
      "text/plain": [
       "'destination1.txt'"
      ]
     },
     "execution_count": 6,
     "metadata": {},
     "output_type": "execute_result"
    }
   ],
   "source": [
    "# Write a function that copies the contents of a file named `source.txt` to a new file named `destination.txt`.\n",
    "import shutil\n",
    "\n",
    "def copyfile():\n",
    "  return shutil.copy('sample.txt','destination1.txt')\n",
    "\n",
    "copyfile()"
   ]
  },
  {
   "cell_type": "code",
   "execution_count": null,
   "id": "851e191f",
   "metadata": {},
   "outputs": [],
   "source": [
    "# Write a function that appends a given string to the end of a file named `log.txt`.\n",
    "\n",
    "with open('log.txt','a') as file:\n",
    "  file.write(\" appending txt at end\")"
   ]
  },
  {
   "cell_type": "code",
   "execution_count": 5,
   "id": "e6c312c0",
   "metadata": {},
   "outputs": [
    {
     "name": "stdout",
     "output_type": "stream",
     "text": [
      "4\n"
     ]
    }
   ],
   "source": [
    "# Write a function that reads the contents of a file named `document.txt` and returns the number of words in the file.\n",
    "\n",
    "with open('sample.txt','r') as file:\n",
    "  count=0\n",
    "  for i in file:\n",
    "    text=file.read()\n",
    "    words=text.split()\n",
    "    print(len(words))"
   ]
  },
  {
   "cell_type": "code",
   "execution_count": 11,
   "id": "9ae4fde5",
   "metadata": {},
   "outputs": [
    {
     "name": "stdout",
     "output_type": "stream",
     "text": [
      "TEST A, APPLE, BANANA ,APPLE ,GRAPES , test\n"
     ]
    }
   ],
   "source": [
    "# Write a function that finds and replaces all occurrences of a given word in a file named `data.txt` with another word.\n",
    "def replaceStr(filename):\n",
    "  with open('data.txt','r') as file:\n",
    "    content=file.read()\n",
    "    print(content)\n",
    "  updated_content=content.replace('APPLE','APPLE_TEST')\n",
    "\n",
    "  with open('data.txt','w') as file:\n",
    "    content=file.write(updated_content)\n",
    "    \n",
    "\n",
    "replaceStr('data.txt')"
   ]
  },
  {
   "cell_type": "code",
   "execution_count": null,
   "id": "2fcb1090",
   "metadata": {},
   "outputs": [
    {
     "name": "stdout",
     "output_type": "stream",
     "text": [
      "Reversef\n",
      "this is file handling assignment 5logging\n",
      "hello world\n"
     ]
    }
   ],
   "source": [
    "# Write a function that reads the contents of a file named `reverse.txt` and prints each line in reverse order.\n",
    "\n",
    "def revFile(filename):\n",
    "  with open('reverse.txt','r') as file:\n",
    "    content=file.readlines()\n",
    "    print(\"Reversef\")\n",
    "for i in reversed(content):\n",
    "      print(i.strip())\n",
    "\n",
    "\n",
    "revFile('reverse.txt')"
   ]
  },
  {
   "cell_type": "code",
   "execution_count": 15,
   "id": "7b049b69",
   "metadata": {},
   "outputs": [
    {
     "name": "stdout",
     "output_type": "stream",
     "text": [
      "['Hello', 'World!!!!!', 'This', 'is', 'Rohini', 'here', 'line3']\n",
      "words: 7\n",
      "Lines:  3\n",
      "character: 42\n"
     ]
    }
   ],
   "source": [
    "# Write a function that reads the contents of a file named `stats.txt` and returns the number of lines, words, and characters in the file.\n",
    "\n",
    "\n",
    "def count(filename):\n",
    "  \n",
    "  with open('stats.txt','r') as file:\n",
    "    count=0\n",
    "     \n",
    "   \n",
    "    content=file.read()\n",
    "\n",
    "#words\n",
    "    total_words=content.split()\n",
    "    print(total_words)\n",
    "    print(f\"words: {len(total_words)}\")\n",
    "\n",
    "#lines\n",
    "    lines=content.splitlines()\n",
    "    print(f\"Lines:  {len(lines)}\")\n",
    "    \n",
    "\n",
    "    \n",
    "    for character in content:\n",
    "      # print(character)\n",
    "      count=count+1\n",
    "    print(f\"character: {count}\")\n",
    "\n",
    "count('stats.txt')\n"
   ]
  },
  {
   "cell_type": "code",
   "execution_count": null,
   "id": "c2ee3302",
   "metadata": {},
   "outputs": [],
   "source": [
    "# <!-- Write a function that merges the contents of multiple files into a single file named `merged.txt`. -->\n",
    "def merged_file(fileList,output):\n",
    "  with open(output,'w') as outputfile:\n",
    "    for files in fileList:\n",
    "      with open(files,'r') as inFile:\n",
    "        outputfile.write(inFile.read() + '\\n')\n",
    "\n",
    "merged_file(['destination.txt','log.txt'],'merged.txt')"
   ]
  },
  {
   "cell_type": "code",
   "execution_count": null,
   "id": "17f98719",
   "metadata": {},
   "outputs": [],
   "source": []
  }
 ],
 "metadata": {
  "kernelspec": {
   "display_name": "Python 3",
   "language": "python",
   "name": "python3"
  },
  "language_info": {
   "codemirror_mode": {
    "name": "ipython",
    "version": 3
   },
   "file_extension": ".py",
   "mimetype": "text/x-python",
   "name": "python",
   "nbconvert_exporter": "python",
   "pygments_lexer": "ipython3",
   "version": "3.12.0"
  }
 },
 "nbformat": 4,
 "nbformat_minor": 5
}
