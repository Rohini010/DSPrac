{
 "cells": [
  {
   "cell_type": "code",
   "execution_count": null,
   "id": "b2de668e",
   "metadata": {},
   "outputs": [
    {
     "name": "stdout",
     "output_type": "stream",
     "text": [
      "The area is 12\n",
      "The area is 28.259999999999998\n"
     ]
    }
   ],
   "source": [
    "# Base Class\n",
    "class Shape:\n",
    "  def area(self):\n",
    "    return \"The area of the figure\"\n",
    "  \n",
    "\n",
    "# Derived Class1\n",
    "class Rectangle(Shape):\n",
    "  def __init__(self,height,width):\n",
    "    self.height=height\n",
    "    self.width=width\n",
    "\n",
    "  def area(self):\n",
    "    return self.height*self.width\n",
    "\n",
    "# Derived Class2  \n",
    "class Circle(Shape):\n",
    "  def __init__(self,radius):\n",
    "    self .radius=radius\n",
    "\n",
    "  def area(self):\n",
    "    return 3.14*self.radius*self.radius\n",
    "\n",
    "\n",
    "'''This function accepts any object that has an area() method — that’s polymorphism.\n",
    "Even though shape could be a Rectangle or a Circle, Python will automatically call the correct area() method\n",
    "based on the object’s type at runtime.'''\n",
    "def print_area(shape):\n",
    "  print(f\"The area is {shape.area()}\")\n",
    "\n",
    "rectangle=Rectangle(3,4)\n",
    "circle=Circle(3)\n",
    "\n",
    "print_area(rectangle)\n",
    "print_area(circle)"
   ]
  },
  {
   "cell_type": "code",
   "execution_count": 4,
   "id": "6ec9d26c",
   "metadata": {},
   "outputs": [
    {
     "name": "stdout",
     "output_type": "stream",
     "text": [
      "Name: Rohini and Age: 43\n"
     ]
    }
   ],
   "source": [
    "# Create a class named `Student` with attributes `name` and `age`. Use a constructor to initialize these attributes. \n",
    "# Create an object of the class and print its attributes.\n",
    "\n",
    "class Student:\n",
    "  def __init__(self,name,age):\n",
    "    self.name=name\n",
    "    self.age=age\n",
    "\n",
    "  def show(self):\n",
    "      print(f\"Name: {self.name} and Age: {self.age}\")\n",
    "\n",
    "student1=Student(\"Rohini\",43)\n",
    "student1.show()  \n"
   ]
  },
  {
   "cell_type": "code",
   "execution_count": null,
   "id": "1ceb1e60",
   "metadata": {},
   "outputs": [
    {
     "ename": "NameError",
     "evalue": "name 'multiply' is not defined",
     "output_type": "error",
     "traceback": [
      "\u001b[1;31m---------------------------------------------------------------------------\u001b[0m",
      "\u001b[1;31mNameError\u001b[0m                                 Traceback (most recent call last)",
      "Cell \u001b[1;32mIn[1], line 10\u001b[0m\n\u001b[0;32m      6\u001b[0m   \u001b[38;5;129m@staticmethod\u001b[39m\n\u001b[0;32m      7\u001b[0m   \u001b[38;5;28;01mdef\u001b[39;00m\u001b[38;5;250m \u001b[39m\u001b[38;5;21mmultiply\u001b[39m(a,b):\n\u001b[0;32m      8\u001b[0m     \u001b[38;5;28;01mreturn\u001b[39;00m a\u001b[38;5;241m*\u001b[39mb\n\u001b[1;32m---> 10\u001b[0m \u001b[43mmultiply\u001b[49m  (\u001b[38;5;241m3\u001b[39m,\u001b[38;5;241m4\u001b[39m)\n",
      "\u001b[1;31mNameError\u001b[0m: name 'multiply' is not defined"
     ]
    }
   ],
   "source": []
  },
  {
   "cell_type": "code",
   "execution_count": 2,
   "id": "707e7145",
   "metadata": {},
   "outputs": [
    {
     "name": "stdout",
     "output_type": "stream",
     "text": [
      "hello!!!!\n"
     ]
    }
   ],
   "source": [
    "print(\"hello!!!!\")"
   ]
  }
 ],
 "metadata": {
  "kernelspec": {
   "display_name": "Python 3",
   "language": "python",
   "name": "python3"
  },
  "language_info": {
   "codemirror_mode": {
    "name": "ipython",
    "version": 3
   },
   "file_extension": ".py",
   "mimetype": "text/x-python",
   "name": "python",
   "nbconvert_exporter": "python",
   "pygments_lexer": "ipython3",
   "version": "3.12.0"
  }
 },
 "nbformat": 4,
 "nbformat_minor": 5
}
