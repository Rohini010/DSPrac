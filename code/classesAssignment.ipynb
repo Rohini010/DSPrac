{
 "cells": [
  {
   "cell_type": "code",
   "execution_count": 4,
   "id": "8f435787",
   "metadata": {},
   "outputs": [
    {
     "name": "stdout",
     "output_type": "stream",
     "text": [
      "rahul is barking\n"
     ]
    }
   ],
   "source": [
    "class Dog:\n",
    "  def __init__(self,name,age):\n",
    "    self.name=name\n",
    "    self.age=age\n",
    "  def bark(self):\n",
    "    print(f\"{self.name} is barking\")\n",
    "  \n",
    "dog1=Dog(\"rahul\",26)\n",
    "dog1.bark()\n",
    "  "
   ]
  },
  {
   "cell_type": "code",
   "execution_count": 6,
   "id": "25744400",
   "metadata": {},
   "outputs": [
    {
     "name": "stdout",
     "output_type": "stream",
     "text": [
      "audi 3.13 2022\n",
      "starting engine of audi\n"
     ]
    }
   ],
   "source": [
    "# Create a class named `Car` with attributes `make`, `model`, and `year`. Create an object of the class and  print its attributes.\n",
    "# Add a method named `start_engine` to the `Car` class that prints a message when the engine starts. \n",
    "# Create an object of the class and call the method.\n",
    "\n",
    "class Car:\n",
    "  def __init__(self,make,model,year):\n",
    "    self.make=make\n",
    "    self.model=model\n",
    "    self.year=year\n",
    "\n",
    "  def start_engine(self):\n",
    "    print(f\"starting engine of {self.make}\")\n",
    "\n",
    "car1=Car(\"audi\",3.13,2022)\n",
    "print(f\"{car1.make} {car1.model} {car1.year}\")\n",
    "car1.start_engine()\n"
   ]
  },
  {
   "cell_type": "code",
   "execution_count": 8,
   "id": "767c027d",
   "metadata": {},
   "outputs": [
    {
     "name": "stdout",
     "output_type": "stream",
     "text": [
      "Rohini 25\n"
     ]
    }
   ],
   "source": [
    "### Assignment 3: Class with Constructor\n",
    "# Create a class named `Student` with attributes `name` and `age`. Use a constructor to initialize these attributes. \n",
    "# Create an object of the class and print its attributes.\n",
    "\n",
    "class Student:\n",
    "  def __init__(self,name,age):\n",
    "    self.name=name\n",
    "    self.age=age\n",
    "\n",
    "student1=Student(\"Rohini\",25)\n",
    "print(f\"{student1.name} {student1.age}\")\n",
    "    "
   ]
  },
  {
   "cell_type": "code",
   "execution_count": 2,
   "id": "8ae2c90e",
   "metadata": {},
   "outputs": [
    {
     "name": "stdout",
     "output_type": "stream",
     "text": [
      "Withdrawn is 1000\n",
      "Deposited: 500. New balance: 1500\n",
      "Withdrawn: 300. New balance: 1200\n",
      "Invalid action\n",
      "Withdrawn is 1200\n"
     ]
    }
   ],
   "source": [
    "# Create a class named `BankAccount` with private attributes `account_number` and `balance`. \n",
    "# Add methods to deposit and withdraw money, and to check the balance. Create an object of the class and perform some operations.\n",
    "\n",
    "class BankAccount:\n",
    "  def __init__(self,account_number,balance=0):\n",
    "    self.__account_number=account_number\n",
    "    self.__balance=balance\n",
    "\n",
    "  def depositMoney(self,amount):\n",
    "    self.amount=amount\n",
    "    if self.amount>0:\n",
    "      self.__balance += amount\n",
    "      print(f\"Deposited: {amount}. New balance: {self.__balance}\")\n",
    "    else:\n",
    "      print(\"Deposit amount must be positive.\")\n",
    "\n",
    "  def withdraw_money(self,amount):\n",
    "    if amount<self.__balance:\n",
    "      self.__balance -= amount \n",
    "      print(f\"Withdrawn: {amount}. New balance: {self.__balance}\")\n",
    "    else:\n",
    "        print(\"Invalid action\")\n",
    "\n",
    "  def checkBalance(self):\n",
    "    print(f\"Withdrawn is {self.__balance}\")\n",
    "\n",
    "my_account = BankAccount(\"1234567890\", 1000)\n",
    "\n",
    "my_account.checkBalance()         # Should show 1000\n",
    "my_account.depositMoney(500)      # Deposit 500\n",
    "my_account.withdraw_money(300)     # Withdraw 300\n",
    "my_account.withdraw_money(1500)    # Try withdrawing more than balance\n",
    "my_account.checkBalance()  "
   ]
  },
  {
   "cell_type": "code",
   "execution_count": 8,
   "id": "e79515a1",
   "metadata": {},
   "outputs": [
    {
     "name": "stdout",
     "output_type": "stream",
     "text": [
      "rohini\n",
      "43\n",
      "1100\n"
     ]
    }
   ],
   "source": [
    "# Create a base class named `Person` with attributes `name` and `age`. \n",
    "# Create a derived class named `Employee` that inherits from `Person` and adds an attribute `employee_id`. \n",
    "# Create an object of the derived class and print its attributes.\n",
    "\n",
    "class Person:\n",
    "  def __init__(self,name,age):\n",
    "    self.name=name\n",
    "    self.age=age\n",
    "\n",
    "class Employee(Person):\n",
    "  def __init__(self,name,age,employee_id):\n",
    "    super().__init__(name,age)\n",
    "    self.employee_id=employee_id\n",
    "\n",
    "employee1=Employee(\"rohini\",43,1100)\n",
    "print(employee1.name)\n",
    "print(employee1.age)\n",
    "print(employee1.employee_id)\n"
   ]
  }
 ],
 "metadata": {
  "kernelspec": {
   "display_name": "Python 3",
   "language": "python",
   "name": "python3"
  },
  "language_info": {
   "codemirror_mode": {
    "name": "ipython",
    "version": 3
   },
   "file_extension": ".py",
   "mimetype": "text/x-python",
   "name": "python",
   "nbconvert_exporter": "python",
   "pygments_lexer": "ipython3",
   "version": "3.12.0"
  }
 },
 "nbformat": 4,
 "nbformat_minor": 5
}
