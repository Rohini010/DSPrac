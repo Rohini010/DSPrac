{
 "cells": [
  {
   "cell_type": "code",
   "execution_count": null,
   "id": "fade676a-63cc-4eca-bea2-9dc923b4f59f",
   "metadata": {},
   "outputs": [
    {
     "name": "stdout",
     "output_type": "stream",
     "text": [
      "[1, 2, 3, 4, 5, 6, 7, 8, 9, 10, 11, 12, 13, 14, 15, 16, 17, 18, 19, 20]\n",
      "2\n",
      "11\n",
      "20\n",
      "[1, 2, 3, 4, 5]\n",
      "[16, 17, 18, 19, 20]\n",
      "[6, 7, 8, 9, 10, 11, 12, 13, 14, 15]\n",
      "[1, 4, 9, 16, 25, 36, 49, 64, 81, 100]\n",
      "[2, 4, 6, 8, 10, 12, 14, 16, 18, 20]\n",
      "[1, 2, 3, 4, 5, 6, 7, 8, 9]\n",
      "[9, 8, 7, 6, 5, 4, 3, 2, 1]\n"
     ]
    }
   ],
   "source": [
    "# Create a list of the first 20 positive integers. Print the list.\n",
    "lst1=list(range(1,21))\n",
    "print(lst1)\n",
    "\n",
    "# Print the first, middle, and last elements of the list created in Assignment 1.\n",
    "print(lst1[1])\n",
    "print(lst1[len(lst1)//2])\n",
    "print(lst1[-1])\n",
    "\n",
    "# Print the first five elements, the last five elements, and the elements from index 5 to 15 of the list created in Assignment 1.\n",
    "print(lst1[:5])\n",
    "print(lst1[-5:])\n",
    "print(lst1[5:15])\n",
    "\n",
    "\n",
    "# Create a new list containing the squares of the first 10 positive integers using a list comprehension. Print the new list.\n",
    "sq_list=list(sq**2 for sq in range(1,11))\n",
    "print(sq_list)\n",
    "\n",
    "# Create a new list containing only the even numbers from the list created in Assignment 1 using a list comprehension. Print the new list.\n",
    "even_lst1=list(ev for ev in lst1 if ev%2==0)\n",
    "print(even_lst1)\n",
    "\n",
    "\n",
    "# Create a list of random numbers and sort it in ascending and descending order. Remove the duplicates from the list and print the modified list.\n",
    "lst2=[3,1,9,5,4,2,6,7,8]\n",
    "sorted_list=sorted(lst2)\n",
    "print(sorted_list)\n",
    "rev_list=sorted(lst2,reverse=True)\n",
    "print(rev_list)\n",
    "\n",
    "\n",
    "\n",
    "# /sorted_students = sorted(students, key=lambda x: x['score'], reverse=True)"
   ]
  },
  {
   "cell_type": "code",
   "execution_count": 8,
   "id": "6aa88c62",
   "metadata": {},
   "outputs": [
    {
     "name": "stdout",
     "output_type": "stream",
     "text": [
      "{'name': 'Rahul', 'age': 55, 'score': 65}\n",
      "{'name': 'Raju', 'age': 43, 'score': 57}\n",
      "{'name': 'Rohini', 'age': 43, 'score': 54}\n",
      "[(1, 'a'), (2, 'b'), (3, 'd'), (4, 'e')]\n",
      "Original list: [4, 2, 1, 6, 5, 9, 7]\n",
      "REversed list: [9, 7, 6, 5, 4, 2, 1] \n"
     ]
    }
   ],
   "source": [
    "# Create a nested list representing a 3x3 matrix and print the matrix. Access and print the element at the second row and third column.\n",
    "\n",
    "\n",
    "\"\"\"Create a list of dictionaries where each dictionary represents a student with keys 'name' and 'score'. Sort the list of dictionaries by the 'score' \n",
    " in descending order and print the sorted list.\"\"\"\n",
    "\n",
    "students=[\n",
    "\n",
    "  {\"name\":\"Rohini\",\"age\":43,\"score\":54},\n",
    "  {\"name\":\"Rahul\",\"age\":55,\"score\":65},\n",
    "  {\"name\":\"Raju\",\"age\":43,\"score\":57},\n",
    "]\n",
    "sorted_students=sorted(students,key=lambda x:x['score'],reverse=True)\n",
    "for st in sorted_students:\n",
    "  print(st)\n",
    "\n",
    "# Create two lists of the same length. Use the `zip` function to combine these lists into a list of tuples and print the result.\n",
    "\n",
    "list1 = [1, 2, 3, 4, 5]\n",
    "list2 = ['a', 'b',  'd', 'e']\n",
    "zipped = list(zip(list1, list2))\n",
    "print(zipped)\n",
    "\n",
    "\n",
    "# Write a function that takes a list and returns a new list with the elements in reverse order. Print the original and reversed lists.\n",
    "def revlist(listA):\n",
    "  return sorted(listA,reverse=True)\n",
    "\n",
    "original_list=[4,2,1,6,5,9,7]\n",
    "reversed_list=revlist(original_list)\n",
    "print(f\"Original list: {original_list}\")\n",
    "print(f\"REversed list: {reversed_list} \")"
   ]
  },
  {
   "cell_type": "code",
   "execution_count": 20,
   "id": "24725122",
   "metadata": {},
   "outputs": [
    {
     "name": "stdout",
     "output_type": "stream",
     "text": [
      "[4, 5, 1, 2, 3]\n"
     ]
    },
    {
     "ename": "ValueError",
     "evalue": "invalid literal for int() with base 10: ''",
     "output_type": "error",
     "traceback": [
      "\u001b[1;31m---------------------------------------------------------------------------\u001b[0m",
      "\u001b[1;31mValueError\u001b[0m                                Traceback (most recent call last)",
      "Cell \u001b[1;32mIn[20], line 14\u001b[0m\n\u001b[0;32m     12\u001b[0m total\u001b[38;5;241m=\u001b[39m\u001b[38;5;241m0\u001b[39m\n\u001b[0;32m     13\u001b[0m \u001b[38;5;28;01mwhile\u001b[39;00m \u001b[38;5;28;01mTrue\u001b[39;00m:\n\u001b[1;32m---> 14\u001b[0m     num\u001b[38;5;241m=\u001b[39m\u001b[38;5;28;43mint\u001b[39;49m\u001b[43m(\u001b[49m\u001b[38;5;28;43minput\u001b[39;49m\u001b[43m(\u001b[49m\u001b[38;5;124;43m\"\u001b[39;49m\u001b[38;5;124;43mEnter num\u001b[39;49m\u001b[38;5;124;43m\"\u001b[39;49m\u001b[43m)\u001b[49m\u001b[43m)\u001b[49m\n\u001b[0;32m     15\u001b[0m     \u001b[38;5;28;01mif\u001b[39;00m num\u001b[38;5;241m==\u001b[39m\u001b[38;5;241m0\u001b[39m:\n\u001b[0;32m     16\u001b[0m         \u001b[38;5;28;01mbreak\u001b[39;00m\n",
      "\u001b[1;31mValueError\u001b[0m: invalid literal for int() with base 10: ''"
     ]
    }
   ],
   "source": [
    "# Write a function that rotates a list by n positions. Print the original and rotated lists.\n",
    "def rotate_list(lst, n):\n",
    "    return lst[n:]+ lst[:n]\n",
    "\n",
    "lst1=[1,2,3,4,5,6]\n",
    "rotated_list=rotate_list(list1,3)\n",
    "print(rotated_list)\n",
    "\n",
    "\n",
    "# Write a program that asks the user to input numbers until they input 0. The program should print the sum of all the input numbers.\n",
    "\n",
    "total=0\n",
    "while True:\n",
    "    num=int(input(\"Enter num\"))\n",
    "    if num==0:\n",
    "        break\n",
    "    total=total+num\n",
    "print(total)\n",
    "\n",
    "# Write a function that takes two lists and returns a new list containing only the elements that are present in both lists. Print the intersected list.\n",
    "\n",
    "list1=[2,1,3,4,5,6]\n",
    "list2=[4,5,6,8,9,7]\n",
    "\n",
    "intllist= [x for x in list1 for y in list2 if x==y]\n",
    "print(intllist)\n"
   ]
  },
  {
   "cell_type": "code",
   "execution_count": 21,
   "id": "69db007d",
   "metadata": {},
   "outputs": [
    {
     "name": "stdout",
     "output_type": "stream",
     "text": [
      "[4, 5, 6]\n"
     ]
    }
   ],
   "source": [
    "list1=[2,1,3,4,5,6]\n",
    "list2=[4,5,6,8,9,7]\n",
    "\n",
    "intllist= [x for x in list1 for y in list2 if x==y]\n",
    "print(intllist)"
   ]
  },
  {
   "cell_type": "code",
   "execution_count": null,
   "id": "0d7e1e30",
   "metadata": {},
   "outputs": [
    {
     "ename": "ValueError",
     "evalue": "invalid literal for int() with base 10: ''",
     "output_type": "error",
     "traceback": [
      "\u001b[1;31m---------------------------------------------------------------------------\u001b[0m",
      "\u001b[1;31mValueError\u001b[0m                                Traceback (most recent call last)",
      "Cell \u001b[1;32mIn[3], line 4\u001b[0m\n\u001b[0;32m      2\u001b[0m total\u001b[38;5;241m=\u001b[39m\u001b[38;5;241m0\u001b[39m\n\u001b[0;32m      3\u001b[0m \u001b[38;5;28;01mwhile\u001b[39;00m \u001b[38;5;28;01mTrue\u001b[39;00m:\n\u001b[1;32m----> 4\u001b[0m   number\u001b[38;5;241m=\u001b[39m\u001b[38;5;28;43mint\u001b[39;49m\u001b[43m(\u001b[49m\u001b[38;5;28;43minput\u001b[39;49m\u001b[43m(\u001b[49m\u001b[38;5;124;43m\"\u001b[39;49m\u001b[38;5;124;43mEnter number\u001b[39;49m\u001b[38;5;124;43m\"\u001b[39;49m\u001b[43m)\u001b[49m\u001b[43m)\u001b[49m\n\u001b[0;32m      5\u001b[0m   \u001b[38;5;28;01mif\u001b[39;00m number\u001b[38;5;241m==\u001b[39m\u001b[38;5;241m0\u001b[39m:\n\u001b[0;32m      6\u001b[0m     \u001b[38;5;28;01mbreak\u001b[39;00m\n",
      "\u001b[1;31mValueError\u001b[0m: invalid literal for int() with base 10: ''"
     ]
    }
   ],
   "source": [
    "# Write a program that asks the user to input numbers until they input 0. The program should print the sum of all the input numbers.\n",
    "total=0\n",
    "while True:\n",
    "  number=float(input(\"Enter number\"))\n",
    "  if number==0:\n",
    "    break\n",
    "  total=total+number\n",
    "print(total)"
   ]
  },
  {
   "cell_type": "code",
   "execution_count": 4,
   "id": "c7c4d7b9",
   "metadata": {},
   "outputs": [
    {
     "name": "stdout",
     "output_type": "stream",
     "text": [
      "2\n",
      "4\n",
      "6\n",
      "8\n"
     ]
    }
   ],
   "source": [
    "#Write a program that asks the user to input a number and prints all the even numbers from 1 to that number using a for loop.\n",
    "number=int(input(\"Enter number\"))\n",
    "for i in range(1,number+1):\n",
    "  if(i%2 ==0):\n",
    "    print(i)"
   ]
  },
  {
   "cell_type": "code",
   "execution_count": 8,
   "id": "a9103e2f",
   "metadata": {},
   "outputs": [
    {
     "name": "stdout",
     "output_type": "stream",
     "text": [
      "120\n"
     ]
    }
   ],
   "source": [
    "#Write a program that calculates the factorial of a number input by the user using a while loop.\n",
    "fact=1;i=1\n",
    "number=int(input(\"Enter number\"))\n",
    "while i<=number:\n",
    "  fact=fact*i\n",
    "  i=i+1\n",
    "\n",
    "print(fact)"
   ]
  },
  {
   "cell_type": "code",
   "execution_count": 13,
   "id": "dbb4934e",
   "metadata": {},
   "outputs": [
    {
     "name": "stdout",
     "output_type": "stream",
     "text": [
      "Sum of digits is: 8\n"
     ]
    }
   ],
   "source": [
    "# Write a program that calculates the sum of the digits of a number input by the user using a while loop.\n",
    "sum=0\n",
    "num=int(input(\"Enter number\"))\n",
    "while num>0:\n",
    "  rem=num%10\n",
    "  sum=sum+rem\n",
    "  num=num//10\n",
    "print(f\"Sum of digits is: {sum}\")\n"
   ]
  },
  {
   "cell_type": "code",
   "execution_count": 16,
   "id": "fbe2217a",
   "metadata": {},
   "outputs": [
    {
     "name": "stdout",
     "output_type": "stream",
     "text": [
      "Factorial of 5 is: 120\n"
     ]
    }
   ],
   "source": [
    "# Write a program that calculates the factorial of a number input by the user using a while loop.\n",
    "fact=1;i=1\n",
    "num=int(input(\"Enter number\"))\n",
    "\n",
    "while i<=num:\n",
    "  fact=fact*i\n",
    "  i=i+1\n",
    "print(f\"Factorial of {num} is: {fact}\")\n"
   ]
  },
  {
   "cell_type": "code",
   "execution_count": 35,
   "id": "e7c509d3",
   "metadata": {},
   "outputs": [
    {
     "name": "stdout",
     "output_type": "stream",
     "text": [
      "0   1\n",
      "1\n",
      "2\n",
      "3\n",
      "5\n"
     ]
    }
   ],
   "source": [
    "# Write a program that prints the first n Fibonacci numbers, where n is input by the user.\n",
    "num=int(input(\"Enter number\"))\n",
    "fib0=0\n",
    "fib1=1\n",
    "print(fib0,\" \", fib1)\n",
    "\n",
    "for i in range(2,num+1):\n",
    "  fib2=fib1+fib0\n",
    "  print(fib2)\n",
    "  fib0=fib1\n",
    "  fib1=fib2\n"
   ]
  },
  {
   "cell_type": "code",
   "execution_count": 2,
   "id": "d4cf2ad8",
   "metadata": {},
   "outputs": [
    {
     "name": "stdout",
     "output_type": "stream",
     "text": [
      "15\n"
     ]
    }
   ],
   "source": [
    "lst=[1,2,3,4,5]\n",
    "sum=0\n",
    "for x in lst:\n",
    "  sum=sum+x\n",
    "print(sum)"
   ]
  },
  {
   "cell_type": "code",
   "execution_count": null,
   "id": "98ff4113",
   "metadata": {},
   "outputs": [
    {
     "name": "stdout",
     "output_type": "stream",
     "text": [
      "[{'name': 'rohini', 'score': 79}, {'name': 'rahul', 'score': 69}, {'name': 'rashi', 'score': 49}]\n"
     ]
    }
   ],
   "source": [
    "''' Create a list of dictionaries where each dictionary represents a student with keys 'name' and 'score'. \n",
    " Sort the list of dictionaries by the 'score' in descending order and print the sorted list.'''\n",
    "\n",
    "student=[\n",
    "  {\"name\":\"rohini\",\"score\":79},\n",
    "  {\"name\":\"rashi\",\"score\":49},\n",
    "  {\"name\":\"rahul\",\"score\":69},\n",
    "]\n",
    "\n",
    "score_sort=sorted(student,key=lambda x:x['score'],reverse=True)\n",
    "print(score_sort)"
   ]
  },
  {
   "cell_type": "code",
   "execution_count": null,
   "id": "773290af",
   "metadata": {},
   "outputs": [],
   "source": [
    "matrix=[\n",
    "  [1,2,3],\n",
    "  [ 4,5,6],\n",
    "  [7,8,9]\n",
    "  ]\n",
    "\n",
    "transpose_M=[for j,i ]"
   ]
  },
  {
   "cell_type": "code",
   "execution_count": null,
   "id": "3ba971ba",
   "metadata": {},
   "outputs": [],
   "source": []
  },
  {
   "cell_type": "code",
   "execution_count": null,
   "id": "8961a437-33be-48ba-a22d-da6692a50838",
   "metadata": {},
   "outputs": [
    {
     "name": "stdout",
     "output_type": "stream",
     "text": [
      "Enter number 3\n"
     ]
    },
    {
     "name": "stdout",
     "output_type": "stream",
     "text": [
      "f{checknum} is odd\n"
     ]
    }
   ],
   "source": [
    "\n"
   ]
  },
  {
   "cell_type": "code",
   "execution_count": null,
   "id": "1880b01c-39b8-4168-8db2-5a4393005931",
   "metadata": {},
   "outputs": [
    {
     "name": "stdout",
     "output_type": "stream",
     "text": [
      "Enter num 4\n"
     ]
    },
    {
     "name": "stdout",
     "output_type": "stream",
     "text": [
      "16\n"
     ]
    }
   ],
   "source": [
    "#Square number\n"
   ]
  },
  {
   "cell_type": "code",
   "execution_count": null,
   "id": "b8b5f285-4d2f-45a8-bcc1-ee30a95e5997",
   "metadata": {},
   "outputs": [
    {
     "name": "stdout",
     "output_type": "stream",
     "text": [
      "Enter number 2022\n"
     ]
    },
    {
     "name": "stdout",
     "output_type": "stream",
     "text": [
      "2022 is not leap year\n"
     ]
    }
   ],
   "source": [
    "#Check leap year\n"
   ]
  },
  {
   "cell_type": "code",
   "execution_count": 1,
   "id": "0706f462-2c5c-4819-b8b9-9e5f6c419bde",
   "metadata": {},
   "outputs": [
    {
     "name": "stdout",
     "output_type": "stream",
     "text": [
      "Reversed string is: f{rev_str}\n"
     ]
    }
   ],
   "source": [
    "str=input(\"Enter string\")\n",
    "rev_str=\"\"\n",
    "for ch in str:\n",
    "    rev_str=ch+rev_str\n",
    "print(\"Reversed string is: f{rev_str}\")"
   ]
  },
  {
   "cell_type": "code",
   "execution_count": 3,
   "id": "02bf4210-cd79-4276-874e-e14fab2d345f",
   "metadata": {},
   "outputs": [
    {
     "name": "stdout",
     "output_type": "stream",
     "text": [
      "palindrome\n"
     ]
    }
   ],
   "source": [
    "str=input(\"Enter string\")\n",
    "tmp=str\n",
    "rev_str=\"\"\n",
    "for ch in str:\n",
    "    rev_str=ch+rev_str\n",
    "if(rev_str==tmp):\n",
    "    print(\"palindrome\")\n",
    "else:\n",
    "    print(\"not palindrome\")"
   ]
  },
  {
   "cell_type": "code",
   "execution_count": null,
   "id": "7c108ee2",
   "metadata": {},
   "outputs": [],
   "source": []
  },
  {
   "cell_type": "code",
   "execution_count": null,
   "id": "5486e739-c6ba-4da8-ac0d-248d7b3032bd",
   "metadata": {},
   "outputs": [],
   "source": []
  }
 ],
 "metadata": {
  "kernelspec": {
   "display_name": "Python 3",
   "language": "python",
   "name": "python3"
  },
  "language_info": {
   "codemirror_mode": {
    "name": "ipython",
    "version": 3
   },
   "file_extension": ".py",
   "mimetype": "text/x-python",
   "name": "python",
   "nbconvert_exporter": "python",
   "pygments_lexer": "ipython3",
   "version": "3.12.0"
  }
 },
 "nbformat": 4,
 "nbformat_minor": 5
}
