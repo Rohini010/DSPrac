{
 "cells": [
  {
   "cell_type": "code",
   "execution_count": null,
   "metadata": {},
   "outputs": [
    {
     "name": "stdout",
     "output_type": "stream",
     "text": [
      "(1, 2, 3, 4, 5, 6, 7, 8, 9, 10)\n",
      "1\n",
      "6\n",
      "10\n",
      "(1, 2, 3)\n",
      "(8, 9, 10)\n",
      "(3, 4, 5, 6)\n",
      "(1, 2, 3)\n",
      "(4, 5, 6)\n",
      "(7, 8, 9)\n",
      "6\n"
     ]
    }
   ],
   "source": [
    "# Create a tuple with the first 10 positive integers. Print the tuple.\n",
    "tup1=tuple(range(1,11))\n",
    "print(tup1)\n",
    "\n",
    "\n",
    "# Print the first, middle, and last elements of the tuple created in Assignment 1.\n",
    "print(tup1[0])\n",
    "print(tup1[len(tup1)//2])\n",
    "print(tup1[-1])\n",
    "\n",
    "# Print the first three elements, the last three elements, and the elements from index 2 to 5 of the tuple created in Assignment 1.\n",
    "print(tup1[:3])\n",
    "print(tup1[-3:])\n",
    "print(tup1[2:6])\n",
    "\n"
   ]
  },
  {
   "cell_type": "code",
   "execution_count": null,
   "metadata": {},
   "outputs": [
    {
     "name": "stdout",
     "output_type": "stream",
     "text": [
      "(1, 2, 3)\n",
      "(4, 5, 6)\n",
      "(7, 8, 9)\n",
      "6\n",
      "(1, 2, 3, 4, 5, 6)\n",
      "3\n",
      "2\n"
     ]
    },
    {
     "ename": "NameError",
     "evalue": "name 'lsit' is not defined",
     "output_type": "error",
     "traceback": [
      "\u001b[1;31m---------------------------------------------------------------------------\u001b[0m",
      "\u001b[1;31mNameError\u001b[0m                                 Traceback (most recent call last)",
      "Cell \u001b[1;32mIn[14], line 27\u001b[0m\n\u001b[0;32m     23\u001b[0m \u001b[38;5;28mprint\u001b[39m(dup_tup1\u001b[38;5;241m.\u001b[39mindex(\u001b[38;5;241m4\u001b[39m))\n\u001b[0;32m     26\u001b[0m \u001b[38;5;66;03m# Convert a list of the first 5 positive integers to a tuple. Print the tuple.\u001b[39;00m\n\u001b[1;32m---> 27\u001b[0m lst2\u001b[38;5;241m=\u001b[39m\u001b[43mlsit\u001b[49m[\u001b[38;5;28mrange\u001b[39m(\u001b[38;5;241m1\u001b[39m,\u001b[38;5;241m6\u001b[39m)]\n\u001b[0;32m     28\u001b[0m \u001b[38;5;28mprint\u001b[39m(lst2)\n\u001b[0;32m     29\u001b[0m \u001b[38;5;66;03m# tup=tuple(lst2)\u001b[39;00m\n",
      "\u001b[1;31mNameError\u001b[0m: name 'lsit' is not defined"
     ]
    }
   ],
   "source": [
    "\n",
    "# Create a nested tuple representing a 3x3 matrix and print the matrix. Access and print the element at the second row and third column.\n",
    "nested_tup=(\n",
    "  (1,2,3),\n",
    "  (4,5,6),\n",
    "  (7,8,9)\n",
    ")\n",
    "\n",
    "for i in nested_tup:\n",
    "  print(i)\n",
    "print(nested_tup[1][2])\n",
    "\n",
    "\n",
    "# Concatenate two tuples: (1, 2, 3) and (4, 5, 6). Print the resulting tuple.\n",
    "tupA=(1,2,3)\n",
    "tupB=(4,5,6)\n",
    "result=tupA+tupB\n",
    "print(result)\n",
    "\n",
    "\n",
    "# Create a tuple with duplicate elements and count the occurrences of an element. Find the index of the first occurrence of an element in the tuple.\n",
    "dup_tup1=(2,3,4,4,4,3,2,6)\n",
    "print(dup_tup1.count(4))\n",
    "print(dup_tup1.index(4))\n",
    "\n",
    "\n",
    "\n"
   ]
  },
  {
   "cell_type": "code",
   "execution_count": 18,
   "metadata": {},
   "outputs": [
    {
     "name": "stdout",
     "output_type": "stream",
     "text": [
      "[1, 2, 3, 4, 5]\n",
      "(1, 2, 3, 4, 5)\n"
     ]
    }
   ],
   "source": [
    "# Convert a list of the first 5 positive integers to a tuple. Print the tuple.\n",
    "lst2=list(range(1,6))\n",
    "print(lst2)\n",
    "tup=tuple(lst2)\n",
    "print(tup)"
   ]
  }
 ],
 "metadata": {
  "kernelspec": {
   "display_name": "Python 3",
   "language": "python",
   "name": "python3"
  },
  "language_info": {
   "codemirror_mode": {
    "name": "ipython",
    "version": 3
   },
   "file_extension": ".py",
   "mimetype": "text/x-python",
   "name": "python",
   "nbconvert_exporter": "python",
   "pygments_lexer": "ipython3",
   "version": "3.12.0"
  }
 },
 "nbformat": 4,
 "nbformat_minor": 2
}
