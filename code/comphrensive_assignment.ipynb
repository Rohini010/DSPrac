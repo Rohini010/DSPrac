{
 "cells": [
  {
   "cell_type": "code",
   "execution_count": 10,
   "id": "5b8beb4a",
   "metadata": {},
   "outputs": [
    {
     "ename": "TypeError",
     "evalue": "'int' object is not iterable",
     "output_type": "error",
     "traceback": [
      "\u001b[1;31m---------------------------------------------------------------------------\u001b[0m",
      "\u001b[1;31mTypeError\u001b[0m                                 Traceback (most recent call last)",
      "Cell \u001b[1;32mIn[10], line 10\u001b[0m\n\u001b[0;32m      8\u001b[0m     \u001b[38;5;28;01mreturn\u001b[39;00m tup_even\u001b[38;5;241m+\u001b[39mtup_odd\n\u001b[0;32m      9\u001b[0m lst \u001b[38;5;241m=\u001b[39m [\u001b[38;5;241m1\u001b[39m, \u001b[38;5;241m2\u001b[39m, \u001b[38;5;241m3\u001b[39m, \u001b[38;5;241m4\u001b[39m, \u001b[38;5;241m5\u001b[39m]\n\u001b[1;32m---> 10\u001b[0m \u001b[43mcount_even_odd\u001b[49m\u001b[43m(\u001b[49m\u001b[43mlst\u001b[49m\u001b[43m)\u001b[49m\n",
      "Cell \u001b[1;32mIn[10], line 6\u001b[0m, in \u001b[0;36mcount_even_odd\u001b[1;34m(lst)\u001b[0m\n\u001b[0;32m      4\u001b[0m count_even\u001b[38;5;241m=\u001b[39m\u001b[38;5;28mlen\u001b[39m(even_lst)\n\u001b[0;32m      5\u001b[0m count_odd\u001b[38;5;241m=\u001b[39m\u001b[38;5;28mlen\u001b[39m(odd_lst)\n\u001b[1;32m----> 6\u001b[0m tup_odd\u001b[38;5;241m=\u001b[39m \u001b[38;5;28;43mtuple\u001b[39;49m\u001b[43m(\u001b[49m\u001b[43mcount_odd\u001b[49m\u001b[43m,\u001b[49m\u001b[43m)\u001b[49m\n\u001b[0;32m      7\u001b[0m tup_even\u001b[38;5;241m=\u001b[39m\u001b[38;5;28mtuple\u001b[39m(count_even,)\n\u001b[0;32m      8\u001b[0m \u001b[38;5;28;01mreturn\u001b[39;00m tup_even\u001b[38;5;241m+\u001b[39mtup_odd\n",
      "\u001b[1;31mTypeError\u001b[0m: 'int' object is not iterable"
     ]
    }
   ],
   "source": [
    "def count_even_odd(lst):\n",
    "    even_lst=[x for x in lst if x%2==0]\n",
    "    odd_lst=[y for y in lst if y%2!=0]\n",
    "    count_even=len(even_lst)\n",
    "    count_odd=len(odd_lst)\n",
    "    tup_odd= tuple(count_odd,)\n",
    "    tup_even=tuple(count_even,)\n",
    "    return tup_even+tup_odd\n",
    "lst = [1, 2, 3, 4, 5]\n",
    "count_even_odd(lst)"
   ]
  },
  {
   "cell_type": "code",
   "execution_count": 15,
   "id": "57403e59",
   "metadata": {},
   "outputs": [
    {
     "name": "stdout",
     "output_type": "stream",
     "text": [
      "(2, 3)\n"
     ]
    }
   ],
   "source": [
    "def count_even_odd(lst):\n",
    "    even_lst=[x for x in lst if x%2==0]\n",
    "    odd_lst=[y for y in lst if y%2!=0]\n",
    "\n",
    "    count_even=len(even_lst)\n",
    "    count_odd=len(odd_lst)\n",
    "\n",
    "    tup_odd= (count_odd , )\n",
    "    tup_even=(count_even , )\n",
    "\n",
    "    return tup_even + tup_odd\n",
    "lst = [1, 2, 3, 4, 5]\n",
    "print(count_even_odd(lst))"
   ]
  },
  {
   "cell_type": "code",
   "execution_count": null,
   "id": "858bc178",
   "metadata": {},
   "outputs": [
    {
     "name": "stdout",
     "output_type": "stream",
     "text": [
      "(2, 3)\n"
     ]
    }
   ],
   "source": []
  },
  {
   "cell_type": "code",
   "execution_count": 2,
   "id": "ff49da9c",
   "metadata": {},
   "outputs": [
    {
     "name": "stdout",
     "output_type": "stream",
     "text": [
      "10\n"
     ]
    }
   ],
   "source": [
    "def find_largest(numbers):\n",
    "    \n",
    "    numbers.sort()\n",
    "    print(numbers[-1])\n",
    "    \n",
    "numbers = [3, 8, 2, 10, 5]\n",
    "find_largest(numbers)"
   ]
  },
  {
   "cell_type": "code",
   "execution_count": 4,
   "id": "b545f982",
   "metadata": {},
   "outputs": [
    {
     "data": {
      "text/plain": [
       "False"
      ]
     },
     "execution_count": 4,
     "metadata": {},
     "output_type": "execute_result"
    }
   ],
   "source": [
    "def check_unique(lst):\n",
    "    return len(lst) == len(set(lst))\n",
    "lst = [1, 2, 3, 3, 4, 5]\n",
    "check_unique(lst)\n"
   ]
  },
  {
   "cell_type": "code",
   "execution_count": null,
   "id": "068613e2",
   "metadata": {},
   "outputs": [
    {
     "data": {
      "text/plain": [
       "False"
      ]
     },
     "execution_count": 20,
     "metadata": {},
     "output_type": "execute_result"
    }
   ],
   "source": [
    "def is_subset(lst1, lst2):\n",
    "    # Your code goes here\n",
    "    for x in lst1:\n",
    "        found=False\n",
    "        for y in lst2:\n",
    "            if y==x:\n",
    "                found= True\n",
    "                break\n",
    "        if not found:\n",
    "            return False\n",
    "    return True\n",
    "        \n",
    "                \n",
    "    \n",
    "lst1 = [1, 2, 3]\n",
    "lst2 = [1, 2, 3, 4, 5]\n",
    "is_subset(lst1, lst2)"
   ]
  },
  {
   "cell_type": "code",
   "execution_count": 34,
   "id": "47a76d7b",
   "metadata": {},
   "outputs": [
    {
     "ename": "KeyboardInterrupt",
     "evalue": "",
     "output_type": "error",
     "traceback": [
      "\u001b[1;31m---------------------------------------------------------------------------\u001b[0m",
      "\u001b[1;31mKeyboardInterrupt\u001b[0m                         Traceback (most recent call last)",
      "Cell \u001b[1;32mIn[34], line 9\u001b[0m\n\u001b[0;32m      7\u001b[0m list1 \u001b[38;5;241m=\u001b[39m [\u001b[38;5;241m1\u001b[39m, \u001b[38;5;241m3\u001b[39m, \u001b[38;5;241m5\u001b[39m]\n\u001b[0;32m      8\u001b[0m list2 \u001b[38;5;241m=\u001b[39m [\u001b[38;5;241m2\u001b[39m, \u001b[38;5;241m4\u001b[39m, \u001b[38;5;241m6\u001b[39m]\n\u001b[1;32m----> 9\u001b[0m \u001b[43mmerge_two_sorted_lists\u001b[49m\u001b[43m(\u001b[49m\u001b[43mlist1\u001b[49m\u001b[43m,\u001b[49m\u001b[43m \u001b[49m\u001b[43mlist2\u001b[49m\u001b[43m)\u001b[49m\n",
      "Cell \u001b[1;32mIn[34], line 5\u001b[0m, in \u001b[0;36mmerge_two_sorted_lists\u001b[1;34m(list1, list2)\u001b[0m\n\u001b[0;32m      3\u001b[0m \u001b[38;5;28;01mfor\u001b[39;00m y \u001b[38;5;129;01min\u001b[39;00m list2:\n\u001b[0;32m      4\u001b[0m     list1\u001b[38;5;241m.\u001b[39mappend(y)\n\u001b[1;32m----> 5\u001b[0m     \u001b[38;5;28;01mbreak\u001b[39;00m\n",
      "\u001b[1;31mKeyboardInterrupt\u001b[0m: "
     ]
    }
   ],
   "source": [
    "def merge_two_sorted_lists(list1, list2):\n",
    "    for x in list1:\n",
    "        for y in list2:\n",
    "            list1.append(y)\n",
    "            break\n",
    "\n",
    "list1 = [1, 3, 5]\n",
    "list2 = [2, 4, 6]\n",
    "merge_two_sorted_lists(list1, list2)\n"
   ]
  },
  {
   "cell_type": "code",
   "execution_count": 4,
   "id": "aa8d63d1",
   "metadata": {},
   "outputs": [
    {
     "data": {
      "text/plain": [
       "{'a': 1, 'b': 2, 'c': 3}"
      ]
     },
     "execution_count": 4,
     "metadata": {},
     "output_type": "execute_result"
    }
   ],
   "source": [
    "def merge_lists_to_dictionary(keys, values):\n",
    "  return dict(zip(keys, values))\n",
    "    \n",
    "\n",
    "keys = ['a', 'b', 'c']\n",
    "values = [1, 2, 3]\n",
    "merge_lists_to_dictionary(keys, values)\n"
   ]
  }
 ],
 "metadata": {
  "kernelspec": {
   "display_name": "Python 3",
   "language": "python",
   "name": "python3"
  },
  "language_info": {
   "codemirror_mode": {
    "name": "ipython",
    "version": 3
   },
   "file_extension": ".py",
   "mimetype": "text/x-python",
   "name": "python",
   "nbconvert_exporter": "python",
   "pygments_lexer": "ipython3",
   "version": "3.12.0"
  }
 },
 "nbformat": 4,
 "nbformat_minor": 5
}
