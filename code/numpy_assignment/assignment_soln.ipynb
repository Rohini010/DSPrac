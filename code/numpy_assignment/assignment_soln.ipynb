{
 "cells": [
  {
   "cell_type": "code",
   "execution_count": 13,
   "id": "f3ff0b43",
   "metadata": {},
   "outputs": [
    {
     "name": "stdout",
     "output_type": "stream",
     "text": [
      "[[15  2  6  3  9]\n",
      " [12  9 12  1 14]\n",
      " [ 8 10  1 14  1]\n",
      " [ 4  1 12 15 19]\n",
      " [ 7  6 13 18 15]]\n",
      "----------------------------------------\n",
      "[[15  2  1  3  9]\n",
      " [12  9  1  1 14]\n",
      " [ 8 10  1 14  1]\n",
      " [ 4  1  1 15 19]\n",
      " [ 7  6  1 18 15]]\n"
     ]
    }
   ],
   "source": [
    "### Assignment 1: Array Creation and Manipulation\n",
    "# 1. Create a NumPy array of shape (5, 5) filled with random integers between 1 and 20. \n",
    "# Replace all the elements in the third column with 1.\n",
    "import random\n",
    "import numpy as np\n",
    "data=np.random.randint(1,21,size=(5,5))\n",
    "# print(data)\n",
    "# data=data.reshape(4,5)\n",
    "print(data)\n",
    "\n",
    "\n",
    "data[0:5,2]=1\n",
    "\n",
    "print('----------------------------------------')\n",
    "print(data)"
   ]
  },
  {
   "cell_type": "code",
   "execution_count": 4,
   "id": "bde68d98",
   "metadata": {},
   "outputs": [
    {
     "data": {
      "text/plain": [
       "array([[ 0,  2,  3,  4],\n",
       "       [ 5,  0,  7,  8],\n",
       "       [ 9, 10,  0, 12],\n",
       "       [13, 14, 15,  0]])"
      ]
     },
     "execution_count": 4,
     "metadata": {},
     "output_type": "execute_result"
    }
   ],
   "source": [
    "# 2. Create a NumPy array of shape (4, 4) with values from 1 to 16. \n",
    "# Replace the diagonal elements with 0.\n",
    "arr=np.arange(1,17)\n",
    "arr=arr.reshape(4,4)\n",
    "arr\n",
    "\n",
    "np.fill_diagonal(arr,0)\n",
    "arr\n",
    "\n",
    "\n"
   ]
  },
  {
   "cell_type": "code",
   "execution_count": 12,
   "id": "6e05e505",
   "metadata": {},
   "outputs": [
    {
     "name": "stdout",
     "output_type": "stream",
     "text": [
      "[[ 1  2  3  4  5  6]\n",
      " [ 7  8  9 10 11 12]\n",
      " [13 14 15 16 17 18]\n",
      " [19 20 21 22 23 24]\n",
      " [25 26 27 28 29 30]\n",
      " [31 32 33 34 35 36]]\n"
     ]
    },
    {
     "data": {
      "text/plain": [
       "array([[14, 15, 16],\n",
       "       [20, 21, 22],\n",
       "       [26, 27, 28]])"
      ]
     },
     "execution_count": 12,
     "metadata": {},
     "output_type": "execute_result"
    }
   ],
   "source": [
    "\n",
    "# 1. Create a NumPy array of shape (6, 6) with values from 1 to 36. \n",
    "# Extract the sub-array consisting of the 3rd to 5th rows and 2nd to 4th columns.\n",
    "\n",
    "arr=np.arange(1,37).reshape(6,6)\n",
    "print(arr)\n",
    "\n",
    "sub_arr=np.array(arr[2:5,1:4])\n",
    "sub_arr\n",
    "\n"
   ]
  },
  {
   "cell_type": "code",
   "execution_count": 44,
   "id": "7435268f",
   "metadata": {},
   "outputs": [
    {
     "name": "stdout",
     "output_type": "stream",
     "text": [
      "[[10  2 14 20  9]\n",
      " [ 1 10 10 12 19]\n",
      " [ 9 17 13  0 18]\n",
      " [ 3  2 18  1  2]\n",
      " [17  3  8  6  5]]\n",
      "-------------------\n",
      "[10  2 14 20  9]\n",
      "-------------------\n",
      "[17  3  8  6  5]\n",
      "-------------------\n",
      "[1 9 3]\n",
      "-------------------\n",
      "[19 18  2]\n"
     ]
    },
    {
     "data": {
      "text/plain": [
       "array([10,  2, 14, 20,  9, 19, 18,  2, 17,  3,  8,  6,  5,  1,  9,  3],\n",
       "      dtype=int32)"
      ]
     },
     "execution_count": 44,
     "metadata": {},
     "output_type": "execute_result"
    }
   ],
   "source": [
    "\n",
    "# 2. Create a NumPy array of shape (5, 5) with random integers. Extract the elements on the border.\n",
    "arr=np.random.randint(21,size=(5,5))\n",
    "print(arr)\n",
    "print('-------------------')\n",
    "top=arr[0,:]\n",
    "print(top)\n",
    "print('-------------------')\n",
    "bottom=arr[4,0:]\n",
    "print(bottom)\n",
    "print('-------------------')\n",
    "left=arr[1:4,0]\n",
    "print(left)\n",
    "\n",
    "print('-------------------')\n",
    "right_side=arr[1:4,4]\n",
    "print(right_side)\n",
    "border_elements = np.concatenate([top, right_side, bottom, left])\n",
    "border_elements\n"
   ]
  },
  {
   "cell_type": "code",
   "execution_count": 50,
   "id": "3fa9accd",
   "metadata": {},
   "outputs": [
    {
     "name": "stdout",
     "output_type": "stream",
     "text": [
      "ARRAy 1:\n",
      "  [[12  2  1  1]\n",
      " [ 7  7 19 18]\n",
      " [ 4 12 13  4]]\n",
      "ARRAy 2:\n",
      "  [[18  6  2 10]\n",
      " [11 17 13 18]\n",
      " [ 2 19  6 15]]\n",
      "-------------------\n",
      "[[30  8  3 11]\n",
      " [18 24 32 36]\n",
      " [ 6 31 19 19]]\n",
      "-------------------\n",
      "[[ -6  -4  -1  -9]\n",
      " [ -4 -10   6   0]\n",
      " [  2  -7   7 -11]]\n",
      "-------------------\n",
      "[[216  12   2  10]\n",
      " [ 77 119 247 324]\n",
      " [  8 228  78  60]]\n",
      "-------------------\n",
      "[[0.66666667 0.33333333 0.5        0.1       ]\n",
      " [0.63636364 0.41176471 1.46153846 1.        ]\n",
      " [2.         0.63157895 2.16666667 0.26666667]]\n"
     ]
    }
   ],
   "source": [
    "### Assignment 3: Array Operations\n",
    "\n",
    "# 1. Create two NumPy arrays of shape (3, 4) filled with random integers. \n",
    "# Perform element-wise addition, subtraction, multiplication, and division.\n",
    "\n",
    "arr1=np.random.randint(1,21,size=(3,4))\n",
    "print(\"ARRAy 1:\\n \",arr1)\n",
    "\n",
    "arr2=np.random.randint(1,21,size=(3,4))\n",
    "print(\"ARRAy 2:\\n \",arr2)\n",
    "print('-------------------')\n",
    "print(arr1+arr2)\n",
    "print('-------------------')\n",
    "print(arr1-arr2)\n",
    "print('-------------------')\n",
    "print(arr1*arr2)\n",
    "print('-------------------')\n",
    "print(arr1/arr2)\n",
    "\n"
   ]
  },
  {
   "cell_type": "code",
   "execution_count": null,
   "id": "fd08e832",
   "metadata": {},
   "outputs": [
    {
     "name": "stdout",
     "output_type": "stream",
     "text": [
      "[[12 12 13  9]\n",
      " [ 9  3  8  1]\n",
      " [ 5  9  6 10]\n",
      " [ 7  1 10 13]]\n",
      "[33 25 37 33]\n",
      "[46 21 30 31]\n"
     ]
    }
   ],
   "source": [
    "# 2. Create a NumPy array of shape (4, 4) with values from 1 to 16. Compute the row-wise and column-wise sum.\n",
    "\n",
    "arr=np.random.randint(1,17,size=(4,4))\n",
    "print(arr)\n",
    "\n",
    "\n",
    "\n",
    "row_wise=np.sum(arr,axis=1)\n",
    "print(row_wise)\n",
    "col_wise=np.sum(arr,axis=0)\n",
    "print(col_wise)\n",
    "\n"
   ]
  },
  {
   "cell_type": "code",
   "execution_count": 63,
   "id": "bf2fa53d",
   "metadata": {},
   "outputs": [
    {
     "name": "stdout",
     "output_type": "stream",
     "text": [
      "13.0\n",
      "14.0\n",
      "8.337865434270332\n",
      "69.52\n"
     ]
    }
   ],
   "source": [
    "### Assignment 4: Statistical Operations\n",
    "\n",
    "# 1. Create a NumPy array of shape (5, 5) filled with random integers. Compute the mean, median, standard deviation, and variance of the array.\n",
    "arr=np.random.randint(1,26,size=(5,5))\n",
    "mean=np.mean(arr)\n",
    "median=np.median(arr)\n",
    "sd=np.std(arr)\n",
    "variance = np.var(arr)\n",
    "\n",
    "print(mean)\n",
    "print(median)\n",
    "print(sd)\n",
    "print(variance)"
   ]
  },
  {
   "cell_type": "code",
   "execution_count": 64,
   "id": "fc4dc5ea",
   "metadata": {},
   "outputs": [
    {
     "name": "stdout",
     "output_type": "stream",
     "text": [
      "12.12\n",
      "7.262616608358175\n",
      "[[-0.01652297  1.7734655   1.36039124 -0.15421439 -1.39343718]\n",
      " [-1.11805434  0.39655129 -0.98036292  0.25885987 -0.70498007]\n",
      " [ 0.67193413 -0.56728865 -0.8426715  -0.8426715   1.63577408]\n",
      " [-0.15421439  1.63577408 -0.29190581 -1.11805434  1.49808266]\n",
      " [-0.42959723  1.36039124 -0.01652297 -0.98036292 -0.98036292]]\n"
     ]
    }
   ],
   "source": [
    "# 2. Create a NumPy array of shape (3, 3) with values from 1 to 9.\n",
    "#  Normalize the array (i.e., scale the values to have a mean of 0 and a standard deviation of 1).\n",
    "\n",
    "arr=np.random.randint(1,26,size=(5,5))\n",
    "mean=np.mean(arr)\n",
    "sd=np.std(arr)\n",
    "\n",
    "print(mean)\n",
    "print(sd)\n",
    "normalized_arr=(arr-mean)/sd\n",
    "\n",
    "print(normalized_arr)"
   ]
  },
  {
   "cell_type": "code",
   "execution_count": null,
   "id": "d2aa19cc",
   "metadata": {},
   "outputs": [],
   "source": []
  }
 ],
 "metadata": {
  "kernelspec": {
   "display_name": "Python 3",
   "language": "python",
   "name": "python3"
  },
  "language_info": {
   "codemirror_mode": {
    "name": "ipython",
    "version": 3
   },
   "file_extension": ".py",
   "mimetype": "text/x-python",
   "name": "python",
   "nbconvert_exporter": "python",
   "pygments_lexer": "ipython3",
   "version": "3.12.0"
  }
 },
 "nbformat": 4,
 "nbformat_minor": 5
}
