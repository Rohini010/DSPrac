{
 "cells": [
  {
   "cell_type": "code",
   "execution_count": null,
   "metadata": {},
   "outputs": [
    {
     "name": "stdout",
     "output_type": "stream",
     "text": [
      "77.0\n",
      "25.0\n"
     ]
    }
   ],
   "source": [
    "# Temparature Conversion\n",
    "def tempconvert(temp,unit):\n",
    "  if unit == 'C':\n",
    "    return (temp * 1.8) + 32 #C to F\n",
    "  elif unit =='F':\n",
    "    return (temp - 32) / 1.8  #F to C\n",
    "  else:\n",
    "    print(\"Please select either value\")\n",
    "print(tempconvert(25, 'C'))\n",
    "print(tempconvert(77, 'F'))"
   ]
  },
  {
   "cell_type": "code",
   "execution_count": 10,
   "metadata": {},
   "outputs": [
    {
     "name": "stdout",
     "output_type": "stream",
     "text": [
      "Enter combination of uppercase,lowecase and sp\n",
      "Enter combination of uppercase,lowecase and sp\n",
      "Enter combination of uppercase,lowecase and sp\n"
     ]
    }
   ],
   "source": [
    "# Strong Password Checker\n",
    "def is_strong_password(password):\n",
    "  if len(password)<=5:\n",
    "    return (\"Retry!!! Please enter password with 8 character\")\n",
    "  elif(password==\"pass#12345\" or password==\"password\"):\n",
    "    return (\"Retry!!! Please enter strong password\")\n",
    "  elif not any (char.islower() for char in password):\n",
    "     return (\"Enter combination of uppercase,lowecase and sp\")\n",
    "  elif not any (char.isupper() for char in password):\n",
    "    return (\"Enter combination of uppercase,lowecase and sp\")\n",
    "  elif not any (char in '@!#$*+' for char in password):\n",
    "    return (\"Enter combination of uppercase,lowecase and sp\")\n",
    "  else:\n",
    "    return( f\"{password}is strong\")\n",
    "\n",
    "print(is_strong_password(\"password1\"))\n",
    "print(is_strong_password(\"password#123\"))\n",
    "print(is_strong_password(\"password1+\"))\n"
   ]
  },
  {
   "cell_type": "code",
   "execution_count": 17,
   "metadata": {},
   "outputs": [
    {
     "data": {
      "text/plain": [
       "5.8999999999999995"
      ]
     },
     "execution_count": 17,
     "metadata": {},
     "output_type": "execute_result"
    }
   ],
   "source": [
    "cart=[\n",
    "  {\"name\":\"Apple\",\"quantity\":4,\"price\":0.5},\n",
    "  {\"name\":\"Banana\",\"quantity\":6,\"price\":0.3},\n",
    "  {\"name\":\"Orange\",\"quantity\":3,\"price\":0.7}\n",
    "]\n",
    "def calculate_cost(cart):\n",
    "    total_cost=0\n",
    "    for item in cart:\n",
    "        total_cost+= item[\"price\"]* item[\"quantity\"]\n",
    "    return total_cost\n",
    "\n",
    "calculate_cost(cart)\n"
   ]
  },
  {
   "cell_type": "code",
   "execution_count": null,
   "metadata": {},
   "outputs": [
    {
     "name": "stdout",
     "output_type": "stream",
     "text": [
      "False\n",
      "True\n"
     ]
    }
   ],
   "source": [
    "def is_palindrome(str_name):\n",
    "  str_name=str_name.lower().replace(\" \",\"\")\n",
    "  return str_name==str_name[::-1]\n",
    "  \n",
    "  \n",
    "\n",
    "print(is_palindrome(\"rohini\"))\n",
    "print(is_palindrome(\"ANSSNa\"))\n",
    "\n",
    "    \n",
    "\n"
   ]
  },
  {
   "cell_type": "code",
   "execution_count": 8,
   "metadata": {},
   "outputs": [
    {
     "name": "stdout",
     "output_type": "stream",
     "text": [
      "120\n"
     ]
    }
   ],
   "source": [
    "def factorial(n):\n",
    "  if n==0:\n",
    "    return 1\n",
    "  else:\n",
    "    return n * factorial(n-1)\n",
    "  \n",
    "print(factorial(5))"
   ]
  },
  {
   "cell_type": "code",
   "execution_count": 16,
   "metadata": {},
   "outputs": [
    {
     "name": "stdout",
     "output_type": "stream",
     "text": [
      "<class 'function'>\n",
      "8\n",
      "True\n",
      "15\n"
     ]
    }
   ],
   "source": [
    "'''Lambda Function'''\n",
    "#addn of 2 var\n",
    "addition=lambda a,b:a+b\n",
    "print(type(addition))\n",
    "print(addition(3,5))\n",
    "\n",
    "\n",
    "even= lambda n:n%2==0\n",
    "print(even(20))\n",
    "\n",
    "addition3=lambda a,b,c:a+b+c\n",
    "print(addition3(7,3,5))"
   ]
  },
  {
   "cell_type": "code",
   "execution_count": 68,
   "metadata": {},
   "outputs": [
    {
     "name": "stdout",
     "output_type": "stream",
     "text": [
      "[1, 4, 9, 16, 25, 36]\n",
      "21\n"
     ]
    }
   ],
   "source": [
    "list1=[1,2,3,4,5,6]\n",
    "square=[x**2 for x in list1]\n",
    "print(square)\n",
    "\n",
    "\n",
    "total=0\n",
    "add1=sum([y for y in list1])\n",
    "print(add1)\n",
    "\n",
    "\n"
   ]
  },
  {
   "cell_type": "code",
   "execution_count": 67,
   "metadata": {},
   "outputs": [
    {
     "name": "stdout",
     "output_type": "stream",
     "text": [
      "True\n",
      "[1, 4, 9, 16, 25, 36, 49, 64]\n",
      "[6, 8]\n",
      "['APPLE', 'BANANA', 'GRAPE']\n",
      "['APPLE', 'BANANA', 'GRAPE']\n",
      "[1, 2, 4, 5]\n",
      "['Rohini', 'Rahul', 'Babu', 'Chor']\n",
      "[{'name': 'Rahul', 'age': 28}, {'name': 'Chor', 'age': 30}]\n"
     ]
    }
   ],
   "source": [
    "#lamda() with map and filter\n",
    "\n",
    "number=[1,2,3,4,5,6,7,8]\n",
    "even= lambda number:number%2==0\n",
    "print(even(12))\n",
    "square=list(map(lambda x:x**2,number))\n",
    "print(square)\n",
    "\n",
    "filter_list=list(filter(lambda x:x>5 and x%2==0,number))\n",
    "print(filter_list)\n",
    "Fruits=['apple','banana','grape']\n",
    "caps=list(map(lambda s:s.upper(),Fruits))\n",
    "caps_with_str=list(map(str.upper,Fruits))\n",
    "print(caps)\n",
    "print(caps_with_str)\n",
    "\n",
    "\n",
    "\n",
    "\n",
    "str1=['1','2','4','5']\n",
    "num=list(map(int,str1))\n",
    "print(num)\n",
    "\n",
    "\n",
    "def name(person):\n",
    "  return person[\"name\"]\n",
    "\n",
    "def age_gt27(person):\n",
    "  return person[\"age\"]>27\n",
    "\n",
    "person=[\n",
    "  {\"name\":\"Rohini\",\"age\":25},\n",
    "  {\"name\":\"Rahul\",\"age\":28},\n",
    "  {\"name\":\"Babu\",\"age\":27},\n",
    "  {\"name\":\"Chor\",\"age\":30},\n",
    "]\n",
    "\n",
    "gtlst= list(map(name,person))\n",
    "print(gtlst)\n",
    "\n",
    "filtered_list=list(filter(age_gt27,person))\n",
    "print(filtered_list)\n",
    "\n",
    "\n"
   ]
  }
 ],
 "metadata": {
  "kernelspec": {
   "display_name": "Python 3",
   "language": "python",
   "name": "python3"
  },
  "language_info": {
   "codemirror_mode": {
    "name": "ipython",
    "version": 3
   },
   "file_extension": ".py",
   "mimetype": "text/x-python",
   "name": "python",
   "nbconvert_exporter": "python",
   "pygments_lexer": "ipython3",
   "version": "3.12.0"
  }
 },
 "nbformat": 4,
 "nbformat_minor": 2
}
