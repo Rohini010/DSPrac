{
 "cells": [
  {
   "cell_type": "code",
   "execution_count": 1,
   "id": "fade676a-63cc-4eca-bea2-9dc923b4f59f",
   "metadata": {},
   "outputs": [
    {
     "name": "stdout",
     "output_type": "stream",
     "text": [
      "Enter natural number 5\n"
     ]
    },
    {
     "name": "stdout",
     "output_type": "stream",
     "text": [
      "Sum of natural number is:\n",
      "15\n"
     ]
    }
   ],
   "source": [
    "#Sum of natural number\n",
    "naturalnum=int(input(\"Enter natural number\"))\n",
    "sum=0\n",
    "print(\"Sum of natural number is:\")\n",
    "for i in range(1,naturalnum+1):\n",
    "  sum=sum+i\n",
    "print(sum)"
   ]
  },
  {
   "cell_type": "code",
   "execution_count": 19,
   "id": "8961a437-33be-48ba-a22d-da6692a50838",
   "metadata": {},
   "outputs": [
    {
     "name": "stdout",
     "output_type": "stream",
     "text": [
      "Enter number 3\n"
     ]
    },
    {
     "name": "stdout",
     "output_type": "stream",
     "text": [
      "f{checknum} is odd\n"
     ]
    }
   ],
   "source": [
    "#Check Even or odd number\n",
    "checknum=int(input(\"Enter number\"))\n",
    "if(checknum%2==0):\n",
    "  print(f\"{checknum} is even\")\n",
    "else:\n",
    "  print(f\"{checknum} is odd\")"
   ]
  },
  {
   "cell_type": "code",
   "execution_count": 7,
   "id": "1880b01c-39b8-4168-8db2-5a4393005931",
   "metadata": {},
   "outputs": [
    {
     "name": "stdout",
     "output_type": "stream",
     "text": [
      "Enter num 4\n"
     ]
    },
    {
     "name": "stdout",
     "output_type": "stream",
     "text": [
      "16\n"
     ]
    }
   ],
   "source": [
    "#Square number\n",
    "num=int(input(\"Enter num\"))\n",
    "sq=num**2\n",
    "print(sq)"
   ]
  },
  {
   "cell_type": "code",
   "execution_count": 21,
   "id": "b8b5f285-4d2f-45a8-bcc1-ee30a95e5997",
   "metadata": {},
   "outputs": [
    {
     "name": "stdout",
     "output_type": "stream",
     "text": [
      "Enter number 2022\n"
     ]
    },
    {
     "name": "stdout",
     "output_type": "stream",
     "text": [
      "2022 is not leap year\n"
     ]
    }
   ],
   "source": [
    "#Check leap year\n",
    "year=int(input(\"Enter number\"))\n",
    "if(year%4==0):\n",
    "  print(f\"{year} is leap\")\n",
    "else:\n",
    "  print(f\"{year} is not leap year\")"
   ]
  },
  {
   "cell_type": "code",
   "execution_count": 13,
   "id": "0706f462-2c5c-4819-b8b9-9e5f6c419bde",
   "metadata": {},
   "outputs": [
    {
     "name": "stdout",
     "output_type": "stream",
     "text": [
      "Enter string rohini is smart\n"
     ]
    },
    {
     "name": "stdout",
     "output_type": "stream",
     "text": [
      "Reversed string is: trams si inihor\n"
     ]
    }
   ],
   "source": [
    "str=input(\"Enter string\")\n",
    "rev_str=\"\"\n",
    "for ch in str:\n",
    "    rev_str=ch+rev_str\n",
    "print(\"Reversed string is: f{rev_str}\")"
   ]
  },
  {
   "cell_type": "code",
   "execution_count": 17,
   "id": "02bf4210-cd79-4276-874e-e14fab2d345f",
   "metadata": {},
   "outputs": [
    {
     "name": "stdout",
     "output_type": "stream",
     "text": [
      "Enter string rohini\n"
     ]
    },
    {
     "name": "stdout",
     "output_type": "stream",
     "text": [
      "not palindrome\n"
     ]
    }
   ],
   "source": [
    "str=input(\"Enter string\")\n",
    "tmp=str\n",
    "rev_str=\"\"\n",
    "for ch in str:\n",
    "    rev_str=ch+rev_str\n",
    "if(rev_str==tmp):\n",
    "    print(\"palindrome\")\n",
    "else\n",
    "    print(\"not palindrome\")"
   ]
  },
  {
   "cell_type": "code",
   "execution_count": null,
   "id": "5486e739-c6ba-4da8-ac0d-248d7b3032bd",
   "metadata": {},
   "outputs": [],
   "source": []
  }
 ],
 "metadata": {
  "kernelspec": {
   "display_name": "Python 3 (ipykernel)",
   "language": "python",
   "name": "python3"
  },
  "language_info": {
   "codemirror_mode": {
    "name": "ipython",
    "version": 3
   },
   "file_extension": ".py",
   "mimetype": "text/x-python",
   "name": "python",
   "nbconvert_exporter": "python",
   "pygments_lexer": "ipython3",
   "version": "3.12.7"
  }
 },
 "nbformat": 4,
 "nbformat_minor": 5
}
