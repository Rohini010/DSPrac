{
 "cells": [
  {
   "cell_type": "code",
   "execution_count": 1,
   "id": "1a9864c0",
   "metadata": {},
   "outputs": [
    {
     "data": {
      "text/plain": [
       "7"
      ]
     },
     "execution_count": 1,
     "metadata": {},
     "output_type": "execute_result"
    }
   ],
   "source": [
    "from packages_practice.practice import addition\n",
    "addition(3,4)"
   ]
  },
  {
   "cell_type": "code",
   "execution_count": 17,
   "id": "46da7106",
   "metadata": {},
   "outputs": [
    {
     "ename": "ImportError",
     "evalue": "cannot import name 'sub' from 'packages_practice.practice' (c:\\Users\\silim\\OneDrive\\Documents\\DATA_SCIENCE\\packages_practice\\practice.py)",
     "output_type": "error",
     "traceback": [
      "\u001b[1;31m---------------------------------------------------------------------------\u001b[0m",
      "\u001b[1;31mImportError\u001b[0m                               Traceback (most recent call last)",
      "Cell \u001b[1;32mIn[17], line 1\u001b[0m\n\u001b[1;32m----> 1\u001b[0m \u001b[38;5;28;01mfrom\u001b[39;00m\u001b[38;5;250m \u001b[39m\u001b[38;5;21;01mpackages_practice\u001b[39;00m\u001b[38;5;21;01m.\u001b[39;00m\u001b[38;5;21;01mpractice\u001b[39;00m\u001b[38;5;250m \u001b[39m\u001b[38;5;28;01mimport\u001b[39;00m sub\n\u001b[0;32m      2\u001b[0m \u001b[38;5;28mprint\u001b[39m(sub(\u001b[38;5;241m4\u001b[39m, \u001b[38;5;241m5\u001b[39m))  \u001b[38;5;66;03m# Output: -1\u001b[39;00m\n",
      "\u001b[1;31mImportError\u001b[0m: cannot import name 'sub' from 'packages_practice.practice' (c:\\Users\\silim\\OneDrive\\Documents\\DATA_SCIENCE\\packages_practice\\practice.py)"
     ]
    }
   ],
   "source": [
    "from packages_practice.practice import sub\n",
    "print(sub(4, 5))  # Output: -1"
   ]
  },
  {
   "cell_type": "code",
   "execution_count": null,
   "id": "eae8d480",
   "metadata": {},
   "outputs": [],
   "source": [
    "from math import *\n",
    "print(sqrt(35))"
   ]
  }
 ],
 "metadata": {
  "kernelspec": {
   "display_name": "Python 3",
   "language": "python",
   "name": "python3"
  },
  "language_info": {
   "codemirror_mode": {
    "name": "ipython",
    "version": 3
   },
   "file_extension": ".py",
   "mimetype": "text/x-python",
   "name": "python",
   "nbconvert_exporter": "python",
   "pygments_lexer": "ipython3",
   "version": "3.12.0"
  }
 },
 "nbformat": 4,
 "nbformat_minor": 5
}
