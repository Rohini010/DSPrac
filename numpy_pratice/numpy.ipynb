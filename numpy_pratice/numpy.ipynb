{
 "cells": [
  {
   "cell_type": "code",
   "execution_count": 1,
   "id": "da76fce3",
   "metadata": {},
   "outputs": [
    {
     "name": "stdout",
     "output_type": "stream",
     "text": [
      "Requirement already satisfied: numpy in c:\\users\\silim\\appdata\\roaming\\python\\python312\\site-packages (2.2.2)\n",
      "Note: you may need to restart the kernel to use updated packages.\n"
     ]
    }
   ],
   "source": [
    "pip install numpy"
   ]
  },
  {
   "cell_type": "code",
   "execution_count": 2,
   "id": "c10f2f3d",
   "metadata": {},
   "outputs": [
    {
     "name": "stdout",
     "output_type": "stream",
     "text": [
      "[1 2 3 4 5]\n",
      "<class 'numpy.ndarray'>\n",
      "(5,)\n"
     ]
    }
   ],
   "source": [
    "import numpy as np\n",
    "#create array using Numpy\n",
    "##CReating 1D array\n",
    "arr1=np.array([1,2,3,4,5])\n",
    "print(arr1)\n",
    "print(type(arr1))\n",
    "print(arr1.shape)"
   ]
  },
  {
   "cell_type": "code",
   "execution_count": 10,
   "id": "7406f798",
   "metadata": {},
   "outputs": [
    {
     "name": "stdout",
     "output_type": "stream",
     "text": [
      "[1 2 3 4 5]\n",
      "(5,)\n"
     ]
    }
   ],
   "source": [
    "arr2=np.array([1,2,3,4,5])\n",
    "print(arr2)\n",
    "print(arr2.shape)\n"
   ]
  },
  {
   "cell_type": "code",
   "execution_count": null,
   "id": "dc1f06d1",
   "metadata": {},
   "outputs": [
    {
     "data": {
      "text/plain": [
       "array([[0],\n",
       "       [2],\n",
       "       [4],\n",
       "       [6],\n",
       "       [8]])"
      ]
     },
     "execution_count": 11,
     "metadata": {},
     "output_type": "execute_result"
    }
   ],
   "source": [
    "np.arange(0,10,2).reshape(5,1) "
   ]
  },
  {
   "cell_type": "code",
   "execution_count": 13,
   "id": "ee42aadc",
   "metadata": {},
   "outputs": [
    {
     "name": "stdout",
     "output_type": "stream",
     "text": [
      "Array: \n",
      " [[1 2 3]\n",
      " [4 5 6]\n",
      " [7 8 9]]\n",
      "Shape:  (3, 3)\n",
      "Dimension  2\n",
      "Data type  int64\n",
      "Size  9\n",
      "Item size  8\n"
     ]
    }
   ],
   "source": [
    "arr=np.array([[1,2,3], [4,5,6],[7,8,9]])\n",
    "print('Array: \\n',arr)\n",
    "print('Shape: ',arr.shape)\n",
    "print('Dimension ',arr.ndim)\n",
    "print('Data type ' ,arr.dtype)\n",
    "print('Size ',arr.size)\n",
    "print('Item size ',arr.itemsize)\n"
   ]
  },
  {
   "cell_type": "code",
   "execution_count": 15,
   "id": "5ad6407a",
   "metadata": {},
   "outputs": [
    {
     "name": "stdout",
     "output_type": "stream",
     "text": [
      "[11 22 33 44 55]\n",
      "[ -9 -18 -27 -36 -45]\n",
      "[ 10  40  90 160 250]\n",
      "[0.1 0.1 0.1 0.1 0.1]\n"
     ]
    }
   ],
   "source": [
    "#Vectorized opr\n",
    "arr1=np.array([1,2,3,4,5])\n",
    "arr2=np.array([10,20,30,40,50])\n",
    "\n",
    "print(arr1+arr2)\n",
    "print(arr1-arr2)\n",
    "print(arr1*arr2)\n",
    "print(arr1/arr2)"
   ]
  },
  {
   "cell_type": "code",
   "execution_count": null,
   "id": "2a1840a7",
   "metadata": {},
   "outputs": [
    {
     "name": "stdout",
     "output_type": "stream",
     "text": [
      "[1.         2.         2.64575131 4.         5.        ]\n",
      "[  1  16  49 256 625]\n",
      "[2.71828183e+00 5.45981500e+01 1.09663316e+03 8.88611052e+06\n",
      " 7.20048993e+10]\n"
     ]
    }
   ],
   "source": [
    "#Universal function\n",
    "arr1=np.array([1,4,7,16,25])\n",
    "print(np.sqrt(arr1))\n",
    "print(np.square(arr1))\n",
    "print(np.exp(arr1))"
   ]
  },
  {
   "cell_type": "code",
   "execution_count": 23,
   "id": "fac2cef7",
   "metadata": {},
   "outputs": [
    {
     "name": "stdout",
     "output_type": "stream",
     "text": [
      "[[ 1  2  3  4]\n",
      " [ 5  6  7  8]\n",
      " [ 9 10 11 12]]\n",
      "1\n",
      "[[ 7  8]\n",
      " [11 12]]\n",
      "[[1 2]\n",
      " [5 6]]\n",
      "[[ 1  2 10  4]\n",
      " [ 5  6  7  8]\n",
      " [ 9 10 11 12]]\n"
     ]
    }
   ],
   "source": [
    "#Slicing and Indexing\n",
    "arr1=np.array([[1,2,3,4],[5,6,7,8],[9,10,11,12]])\n",
    "print(arr1)\n",
    "\n",
    "print(arr1[0][0])\n",
    "print(arr1[1:,2:])\n",
    "print(arr1[0:2,:2])\n",
    "\n",
    "\n",
    "\n",
    "#Modify element\n",
    "arr1[0][2]=10\n",
    "\n",
    "print(arr1)"
   ]
  },
  {
   "cell_type": "code",
   "execution_count": null,
   "id": "edd22000",
   "metadata": {},
   "outputs": [
    {
     "name": "stdout",
     "output_type": "stream",
     "text": [
      "5.5\n",
      "5.5\n",
      "2.8722813232690143\n",
      "8.25\n",
      "[-1.5666989  -1.21854359 -0.87038828 -0.52223297 -0.17407766  0.17407766\n",
      "  0.52223297  0.87038828  1.21854359  1.5666989 ]\n"
     ]
    }
   ],
   "source": [
    "#Calculate mean,median,std,variance and normalized data\n",
    "\n",
    "data=np.array([1,2,3,4,5,6,7,8,9,10])\n",
    "mean=np.mean(data)\n",
    "print(mean)\n",
    "\n",
    "median=np.median(data)\n",
    "print(median)\n",
    "\n",
    "std_dev=np.std(data)\n",
    "print(std_dev)\n",
    "\n",
    "variance=np.var(data)\n",
    "print(variance)\n",
    "\n",
    "normalized_data= (data-mean)/std_dev\n",
    "print(normalized_data)\n"
   ]
  }
 ],
 "metadata": {
  "kernelspec": {
   "display_name": "Python 3",
   "language": "python",
   "name": "python3"
  },
  "language_info": {
   "codemirror_mode": {
    "name": "ipython",
    "version": 3
   },
   "file_extension": ".py",
   "mimetype": "text/x-python",
   "name": "python",
   "nbconvert_exporter": "python",
   "pygments_lexer": "ipython3",
   "version": "3.12.0"
  }
 },
 "nbformat": 4,
 "nbformat_minor": 5
}
