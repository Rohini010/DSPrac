{
 "cells": [
  {
   "cell_type": "code",
   "execution_count": 1,
   "id": "fec58b5a",
   "metadata": {},
   "outputs": [
    {
     "name": "stdout",
     "output_type": "stream",
     "text": [
      "0    1\n",
      "1    2\n",
      "2    3\n",
      "3    4\n",
      "4    5\n",
      "5    6\n",
      "dtype: int64\n"
     ]
    }
   ],
   "source": [
    "import pandas as pd\n",
    "#Series - 1 D array\n",
    "#Creating\n",
    "data=[1,2,3,4,5,6]\n",
    "data=pd.Series(data)\n",
    "print(data)"
   ]
  },
  {
   "cell_type": "code",
   "execution_count": null,
   "id": "406b02d9",
   "metadata": {},
   "outputs": [
    {
     "name": "stdout",
     "output_type": "stream",
     "text": [
      "['agcfg', 'dagbc', 'cfbbd', 'ceabc', 'aaafe']\n",
      "0    agcfg\n",
      "1    dagbc\n",
      "2    cfbbd\n",
      "3    ceabc\n",
      "4    aaafe\n",
      "dtype: object\n",
      "0    AGCFG\n",
      "1    DAGBC\n",
      "2    CFBBD\n",
      "3    CEABC\n",
      "4    AAAFE\n",
      "dtype: object\n",
      "0    ag\n",
      "1    da\n",
      "2    cf\n",
      "3    ce\n",
      "4    aa\n",
      "dtype: object\n"
     ]
    }
   ],
   "source": [
    "import random\n",
    "import pandas as pd\n",
    "char=['a','b','c','d','e','f','g']\n",
    "lst=[]\n",
    "char_str=[]\n",
    "for i in range(5):\n",
    "  word= ''.join(random.choices(char,k=5))\n",
    "  lst.append(word)\n",
    "  char_str.append(word[0:3])\n",
    "print(lst)\n",
    "\n",
    "data=pd.Series(lst)\n",
    "print(data)\n",
    "\n",
    "upper_case_series=data.str.upper()\n",
    "print(upper_case_series)\n",
    "data_series=pd.Series(char_str)\n",
    "print(data_series)\n"
   ]
  },
  {
   "cell_type": "code",
   "execution_count": null,
   "id": "382f6a80",
   "metadata": {},
   "outputs": [
    {
     "data": {
      "text/plain": [
       "1    10\n",
       "2    20\n",
       "3    30\n",
       "4    40\n",
       "5    50\n",
       "dtype: int64"
      ]
     },
     "execution_count": 14,
     "metadata": {},
     "output_type": "execute_result"
    }
   ],
   "source": [
    "data={'a':1,'b':2,'c':3,'d':4}\n",
    "pd.Series(data)\n",
    "\n",
    "data1=[10,20,30,40,50]\n",
    "index=[1,2,3,4,5]\n",
    "pd.Series(data1,index=index)\n",
    "\n"
   ]
  },
  {
   "cell_type": "code",
   "execution_count": 22,
   "id": "aa52af08",
   "metadata": {},
   "outputs": [
    {
     "name": "stdout",
     "output_type": "stream",
     "text": [
      "{'name': ['Rohini', 'Rahul', 'Jack'], 'age': [25, 26, 28], 'city': ['Mumbai', 'Pune', 'Mumbai']}\n"
     ]
    },
    {
     "data": {
      "text/html": [
       "<div>\n",
       "<style scoped>\n",
       "    .dataframe tbody tr th:only-of-type {\n",
       "        vertical-align: middle;\n",
       "    }\n",
       "\n",
       "    .dataframe tbody tr th {\n",
       "        vertical-align: top;\n",
       "    }\n",
       "\n",
       "    .dataframe thead th {\n",
       "        text-align: right;\n",
       "    }\n",
       "</style>\n",
       "<table border=\"1\" class=\"dataframe\">\n",
       "  <thead>\n",
       "    <tr style=\"text-align: right;\">\n",
       "      <th></th>\n",
       "      <th>name</th>\n",
       "      <th>age</th>\n",
       "      <th>city</th>\n",
       "    </tr>\n",
       "  </thead>\n",
       "  <tbody>\n",
       "    <tr>\n",
       "      <th>0</th>\n",
       "      <td>Rohini</td>\n",
       "      <td>25</td>\n",
       "      <td>Mumbai</td>\n",
       "    </tr>\n",
       "    <tr>\n",
       "      <th>1</th>\n",
       "      <td>Rahul</td>\n",
       "      <td>26</td>\n",
       "      <td>Pune</td>\n",
       "    </tr>\n",
       "    <tr>\n",
       "      <th>2</th>\n",
       "      <td>Jack</td>\n",
       "      <td>28</td>\n",
       "      <td>Mumbai</td>\n",
       "    </tr>\n",
       "  </tbody>\n",
       "</table>\n",
       "</div>"
      ],
      "text/plain": [
       "     name  age    city\n",
       "0  Rohini   25  Mumbai\n",
       "1   Rahul   26    Pune\n",
       "2    Jack   28  Mumbai"
      ]
     },
     "execution_count": 22,
     "metadata": {},
     "output_type": "execute_result"
    }
   ],
   "source": [
    "data={\n",
    "  'name': ['Rohini','Rahul','Jack'],\n",
    "  'age':[25,26,28],\n",
    "  'city':['Mumbai','Pune','Mumbai']\n",
    "}\n",
    "\n",
    "print(data)\n",
    "# data=pd.DataFrame(data)\n",
    "# print(\"DataFrame: \\n \",data)\n",
    "pd.DataFrame(data)"
   ]
  },
  {
   "cell_type": "code",
   "execution_count": 35,
   "id": "84f718ee",
   "metadata": {},
   "outputs": [
    {
     "name": "stdout",
     "output_type": "stream",
     "text": [
      "<class 'pandas.core.frame.DataFrame'>\n",
      "-------------------------\n",
      "         Date Category  Value   Product  Sales Region\n",
      "0  2023-01-01        A   28.0  Product1  754.0   East\n",
      "1  2023-01-02        B   39.0  Product3  110.0  North\n",
      "2  2023-01-03        C   32.0  Product2  398.0   East\n",
      "3  2023-01-04        B    8.0  Product1  522.0   East\n",
      "4  2023-01-05        B   26.0  Product3  869.0  North\n",
      "5  2023-01-06        B   54.0  Product3  192.0   West\n",
      "-------------------------\n",
      "          Date Category  Value   Product  Sales Region\n",
      "45  2023-02-15        B   99.0  Product2  599.0   West\n",
      "46  2023-02-16        B    6.0  Product1  938.0  South\n",
      "47  2023-02-17        B   69.0  Product3  143.0   West\n",
      "48  2023-02-18        C   65.0  Product3  182.0  North\n",
      "49  2023-02-19        C   11.0  Product3  708.0  North\n"
     ]
    }
   ],
   "source": [
    "df=pd.read_csv('data.csv')\n",
    "print(type(df))\n",
    "print('-------------------------')\n",
    "print(df.head(6))\n",
    "print('-------------------------')\n",
    "print(f\"{df.tail(5)}\")\n",
    "\n"
   ]
  },
  {
   "cell_type": "code",
   "execution_count": 53,
   "id": "974ca95d",
   "metadata": {},
   "outputs": [
    {
     "name": "stdout",
     "output_type": "stream",
     "text": [
      "DataFrame: \n",
      "       name  age    city\n",
      "0  Rohini   25  Mumbai\n",
      "1   Rahul   26    Pune\n",
      "2    Jack   28  Mumbai\n",
      "-------------------------\n",
      "Read data using loc\n",
      "-------------------------\n",
      "name    Rohini\n",
      "age         25\n",
      "city    Mumbai\n",
      "Name: 0, dtype: object\n",
      "-------------------------\n",
      "28\n",
      "name    Rahul\n",
      "city     Pune\n",
      "Name: 1, dtype: object\n"
     ]
    }
   ],
   "source": [
    "data={\n",
    "  'name': ['Rohini','Rahul','Jack'],\n",
    "  'age':[25,26,28],\n",
    "  'city':['Mumbai','Pune','Mumbai']\n",
    "}\n",
    "\n",
    "data=pd.DataFrame(data)\n",
    "print(\"DataFrame: \\n \",data)\n",
    "print('-------------------------')\n",
    "print('Read data using loc')\n",
    "print('-------------------------')\n",
    "print(data.loc[0])\n",
    "print('-------------------------')\n",
    "print(data.loc[2, 'age']) \n",
    "# print('-------------------------')\n",
    "print(data.loc[1,['name','city']])\n"
   ]
  },
  {
   "cell_type": "code",
   "execution_count": 66,
   "id": "ced48a6a",
   "metadata": {},
   "outputs": [
    {
     "name": "stdout",
     "output_type": "stream",
     "text": [
      "DataFrame: \n",
      "       name  age    city  salary\n",
      "0  Rohini   25  Mumbai   50000\n",
      "1   Rahul   26    Pune   60000\n",
      "2    Jack   28  Mumbai   70000\n",
      "-------------------------\n",
      "\n",
      "Read data using iloc\n",
      "-------------------------\n",
      "name      Rohini\n",
      "age           25\n",
      "city      Mumbai\n",
      "salary     50000\n",
      "Name: 0, dtype: object\n",
      "-------------------------\n",
      "name    Rahul\n",
      "city     Pune\n",
      "Name: 1, dtype: object\n",
      "     name  age    city  salary\n",
      "0  Rohini   25  Mumbai   50000\n",
      "1   Rahul   26    Pune   60000\n",
      "2    Jack   28  Mumbai   70000\n",
      "     name  age    city\n",
      "0  Rohini   25  Mumbai\n",
      "1   Rahul   26    Pune\n",
      "2    Jack   28  Mumbai\n"
     ]
    }
   ],
   "source": [
    "print(\"DataFrame: \\n \",data)\n",
    "print('-------------------------\\n')\n",
    "print('Read data using iloc')\n",
    "print('-------------------------')\n",
    "print(data.iloc[0])\n",
    "print('-------------------------')\n",
    "print(data.iloc[1,[0,2]])\n",
    "\n",
    "\n",
    "#add column\n",
    "data['salary']=[50000,60000,70000]\n",
    "print(data)\n",
    "data.drop('salary',axis=1,inplace=True)\n",
    "print(data)\n",
    "\n"
   ]
  }
 ],
 "metadata": {
  "kernelspec": {
   "display_name": "Python 3",
   "language": "python",
   "name": "python3"
  },
  "language_info": {
   "codemirror_mode": {
    "name": "ipython",
    "version": 3
   },
   "file_extension": ".py",
   "mimetype": "text/x-python",
   "name": "python",
   "nbconvert_exporter": "python",
   "pygments_lexer": "ipython3",
   "version": "3.12.0"
  }
 },
 "nbformat": 4,
 "nbformat_minor": 5
}
