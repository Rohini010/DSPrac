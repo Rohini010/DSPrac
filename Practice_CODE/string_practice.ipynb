{
 "cells": [
  {
   "cell_type": "code",
   "execution_count": null,
   "id": "d3ff8800",
   "metadata": {},
   "outputs": [],
   "source": [
    "def reverse_string(s):\n",
    "    \"\"\"\n",
    "    Function to return the reversed version of the input string.\n",
    "    \n",
    "    Parameters:\n",
    "    s (str): The input string to be reversed.\n",
    "    \n",
    "    Returns:\n",
    "    str: The reversed string.\n",
    "    \"\"\"\n",
    "    # Your code here\n",
    "    \n",
    "    for i in s:\n",
    "        print(s)"
   ]
  },
  {
   "cell_type": "code",
   "execution_count": 5,
   "id": "d95544ab",
   "metadata": {},
   "outputs": [
    {
     "data": {
      "text/plain": [
       "3"
      ]
     },
     "execution_count": 5,
     "metadata": {},
     "output_type": "execute_result"
    }
   ],
   "source": [
    "def count_vowels(s):\n",
    "    \"\"\"\n",
    "    Function to count the number of vowels in the input string.\n",
    "    \n",
    "    Parameters:\n",
    "    s (str): The input string to check for vowels.\n",
    "    \n",
    "    Returns:\n",
    "    int: The count of vowels in the input string.\n",
    "    \"\"\"\n",
    "    # Your code here\n",
    "    count=0\n",
    "    for x in s:\n",
    "        if x=='a' or x=='i' or x=='e' or x=='o' or x=='u':\n",
    "          count+=1\n",
    "    \n",
    "    return count\n",
    "\n",
    "s= 'Hello, World!'\n",
    "count_vowels(s)"
   ]
  },
  {
   "cell_type": "code",
   "execution_count": 8,
   "id": "b8e6567c",
   "metadata": {},
   "outputs": [
    {
     "ename": "TypeError",
     "evalue": "string indices must be integers, not 'str'",
     "output_type": "error",
     "traceback": [
      "\u001b[1;31m---------------------------------------------------------------------------\u001b[0m",
      "\u001b[1;31mTypeError\u001b[0m                                 Traceback (most recent call last)",
      "Cell \u001b[1;32mIn[8], line 26\u001b[0m\n\u001b[0;32m     24\u001b[0m s \u001b[38;5;241m=\u001b[39m \u001b[38;5;124m\"\u001b[39m\u001b[38;5;124mhello\u001b[39m\u001b[38;5;124m\"\u001b[39m\n\u001b[0;32m     25\u001b[0m t \u001b[38;5;241m=\u001b[39m \u001b[38;5;124m\"\u001b[39m\u001b[38;5;124mhello\u001b[39m\u001b[38;5;124m\"\u001b[39m\n\u001b[1;32m---> 26\u001b[0m \u001b[38;5;28mprint\u001b[39m(\u001b[43mare_equal_strings\u001b[49m\u001b[43m(\u001b[49m\u001b[43ms\u001b[49m\u001b[43m,\u001b[49m\u001b[43mt\u001b[49m\u001b[43m)\u001b[49m)\n",
      "Cell \u001b[1;32mIn[8], line 18\u001b[0m, in \u001b[0;36mare_equal_strings\u001b[1;34m(s, t)\u001b[0m\n\u001b[0;32m     16\u001b[0m \u001b[38;5;28;01mfor\u001b[39;00m i \u001b[38;5;129;01min\u001b[39;00m s:\n\u001b[0;32m     17\u001b[0m     \u001b[38;5;28;01mfor\u001b[39;00m j \u001b[38;5;129;01min\u001b[39;00m t:\n\u001b[1;32m---> 18\u001b[0m         \u001b[38;5;28;01mif\u001b[39;00m \u001b[43ms\u001b[49m\u001b[43m[\u001b[49m\u001b[43mi\u001b[49m\u001b[43m]\u001b[49m\u001b[38;5;241m==\u001b[39ms[j]:\n\u001b[0;32m     19\u001b[0m             \u001b[38;5;28;01mreturn\u001b[39;00m \u001b[38;5;28;01mTrue\u001b[39;00m\n\u001b[0;32m     20\u001b[0m         \u001b[38;5;28;01melse\u001b[39;00m:\n",
      "\u001b[1;31mTypeError\u001b[0m: string indices must be integers, not 'str'"
     ]
    }
   ],
   "source": [
    "def are_equal_strings(s, t):\n",
    "    \"\"\"\n",
    "    Function to check if two strings are equal without using built-in functions.\n",
    "    \n",
    "    Parameters:\n",
    "    s (str): The first string.\n",
    "    t (str): The second string.\n",
    "    \n",
    "    Returns:\n",
    "    bool: True if the strings are equal, False otherwise.\n",
    "    \"\"\"\n",
    "    # Your code here\n",
    "    if len(s) != len(t):\n",
    "        return False\n",
    "    else:\n",
    "        for i in s:\n",
    "            for j in t:\n",
    "                if s[i]==s[j]:\n",
    "                    return True\n",
    "                else:\n",
    "                    return False\n",
    "                \n",
    "\n",
    "s = \"hello\"\n",
    "t = \"hello\"\n",
    "print(are_equal_strings(s,t))\n",
    "    \n"
   ]
  },
  {
   "cell_type": "code",
   "execution_count": null,
   "id": "91bd2a77",
   "metadata": {},
   "outputs": [
    {
     "name": "stdout",
     "output_type": "stream",
     "text": [
      "5\n"
     ]
    }
   ],
   "source": []
  }
 ],
 "metadata": {
  "kernelspec": {
   "display_name": "Python 3",
   "language": "python",
   "name": "python3"
  },
  "language_info": {
   "codemirror_mode": {
    "name": "ipython",
    "version": 3
   },
   "file_extension": ".py",
   "mimetype": "text/x-python",
   "name": "python",
   "nbconvert_exporter": "python",
   "pygments_lexer": "ipython3",
   "version": "3.12.0"
  }
 },
 "nbformat": 4,
 "nbformat_minor": 5
}
