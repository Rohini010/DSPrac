{
 "cells": [
  {
   "cell_type": "code",
   "execution_count": 3,
   "id": "45531336",
   "metadata": {},
   "outputs": [
    {
     "name": "stdout",
     "output_type": "stream",
     "text": [
      "5.0\n",
      "1.0\n"
     ]
    }
   ],
   "source": [
    "# Import the `math` module and use it to calculate the square root of 25 and the sine of 90 degrees.\n",
    "from math import *\n",
    "print(sqrt(25))\n",
    "print(sin(radians(90)))"
   ]
  },
  {
   "cell_type": "code",
   "execution_count": 6,
   "id": "e6fee32d",
   "metadata": {},
   "outputs": [
    {
     "name": "stdout",
     "output_type": "stream",
     "text": [
      "2025-04-19 13:15:45.565378\n"
     ]
    }
   ],
   "source": [
    "# Import the `datetime` module with an alias and use it to print the current date and time.\n",
    "\n",
    "from datetime import *\n",
    "current_datetime= datetime.now()\n",
    "print(current_datetime)\n",
    "\n",
    "\n"
   ]
  },
  {
   "cell_type": "code",
   "execution_count": 7,
   "id": "72d96c13",
   "metadata": {},
   "outputs": [
    {
     "name": "stdout",
     "output_type": "stream",
     "text": [
      "17\n"
     ]
    }
   ],
   "source": [
    "# Import the `randint` function from the `random` module and use it to generate a random integer between 1 and 100.\n",
    "from random import randint\n",
    "print(randint(1,100))"
   ]
  },
  {
   "cell_type": "code",
   "execution_count": 8,
   "id": "3a4ec381",
   "metadata": {},
   "outputs": [
    {
     "name": "stdout",
     "output_type": "stream",
     "text": [
      "4.0\n",
      "8.0\n"
     ]
    }
   ],
   "source": [
    "# Import the `sqrt` and `pow` functions from the `math` module and use them to calculate the square root of 16 and 2 raised to the power of 3.\n",
    "from math import sqrt,pow\n",
    "print(sqrt(16))\n",
    "print(pow(2,3))"
   ]
  },
  {
   "cell_type": "code",
   "execution_count": 10,
   "id": "9f326b78",
   "metadata": {},
   "outputs": [
    {
     "name": "stdout",
     "output_type": "stream",
     "text": [
      "Error importing module: No module named 'non_existent_module'\n"
     ]
    }
   ],
   "source": [
    "# Write code that attempts to import a non-existent module and gracefully handles the import error by printing an error message.\n",
    "try:\n",
    "  import non_existent_module\n",
    "except ImportError as e:\n",
    "    print(f\"Error importing module: {e}\")"
   ]
  },
  {
   "cell_type": "code",
   "execution_count": 18,
   "id": "63c44d41",
   "metadata": {},
   "outputs": [
    {
     "name": "stdout",
     "output_type": "stream",
     "text": [
      "None\n"
     ]
    }
   ],
   "source": [
    "# # Use the `os` module to create a new directory, list the contents of the current directory, and remove the newly created directory.\n",
    "\n",
    "# import os\n",
    "# dir_name=\"test_package\"\n",
    "# os.mkdir(dir_name)\n",
    "# print(os.getcwd())\n",
    "# print(os.listdir('.'))\n",
    "print(os.rmdir('test_package'))"
   ]
  },
  {
   "cell_type": "code",
   "execution_count": 19,
   "id": "c0b9b8de",
   "metadata": {},
   "outputs": [
    {
     "name": "stdout",
     "output_type": "stream",
     "text": [
      "3.12.0 | packaged by Anaconda, Inc. | (main, Oct  2 2023, 17:20:38) [MSC v.1916 64 bit (AMD64)]\n",
      "Command line arguments: ['C:\\\\Users\\\\silim\\\\AppData\\\\Roaming\\\\Python\\\\Python312\\\\site-packages\\\\ipykernel_launcher.py', '--f=c:\\\\Users\\\\silim\\\\AppData\\\\Roaming\\\\jupyter\\\\runtime\\\\kernel-v3a3633a6b03f7868da04a01a2d6a8d8958b6c5130.json']\n"
     ]
    }
   ],
   "source": [
    "# Use the `sys` module to print the Python version currently in use and the command-line arguments passed to the script.\n",
    "import sys\n",
    "print(sys.version)\n",
    "print(f\"Command line arguments: {sys.argv}\")"
   ]
  },
  {
   "cell_type": "code",
   "execution_count": 22,
   "id": "5aebb947",
   "metadata": {},
   "outputs": [
    {
     "name": "stdout",
     "output_type": "stream",
     "text": [
      "24\n",
      "6\n"
     ]
    }
   ],
   "source": [
    "# Use the `math` module to calculate the greatest common divisor (GCD) of two numbers and the factorial of a number.\n",
    "\n",
    "from math import *\n",
    "print(factorial(4))\n",
    "print(gcd(48,18))"
   ]
  },
  {
   "cell_type": "code",
   "execution_count": 34,
   "id": "7627819b",
   "metadata": {},
   "outputs": [
    {
     "name": "stdout",
     "output_type": "stream",
     "text": [
      "2025-04-19 13:43:03.685892\n",
      "2025-07-28 13:43:03.685892\n",
      "Day of the week for 2022-01-01: Saturday\n"
     ]
    }
   ],
   "source": [
    "# Use the `datetime` module to print the current date, calculate the date 100 days from today, and determine the day of the week for a given date.\n",
    "from datetime import datetime, timedelta, date\n",
    "now=datetime.now()\n",
    "print(now)\n",
    "\n",
    "century=now + timedelta(days=100)\n",
    "print(century)\n",
    "\n",
    "given_date = date(2022, 1, 1)\n",
    "print(f\"Day of the week for 2022-01-01: {given_date.strftime('%A')}\")\n",
    "\n"
   ]
  },
  {
   "cell_type": "code",
   "execution_count": 35,
   "id": "a9b6f6a1",
   "metadata": {},
   "outputs": [
    {
     "name": "stdout",
     "output_type": "stream",
     "text": [
      "[32, 39, 7, 9, 26, 13]\n"
     ]
    }
   ],
   "source": [
    "# Use the `random` module to generate a list of 5 random numbers between 1 and 50 and shuffle the elements of a list.\n",
    "import random\n",
    "random_numbers=[randint(1,50) for x in range(6)]\n",
    "print(random_numbers)"
   ]
  }
 ],
 "metadata": {
  "kernelspec": {
   "display_name": "Python 3",
   "language": "python",
   "name": "python3"
  },
  "language_info": {
   "codemirror_mode": {
    "name": "ipython",
    "version": 3
   },
   "file_extension": ".py",
   "mimetype": "text/x-python",
   "name": "python",
   "nbconvert_exporter": "python",
   "pygments_lexer": "ipython3",
   "version": "3.12.0"
  }
 },
 "nbformat": 4,
 "nbformat_minor": 5
}
