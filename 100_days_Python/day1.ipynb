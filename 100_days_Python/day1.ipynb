{
 "cells": [
  {
   "cell_type": "code",
   "execution_count": 2,
   "id": "0bf259b2",
   "metadata": {},
   "outputs": [
    {
     "name": "stdout",
     "output_type": "stream",
     "text": [
      "1. Mix 500g of Flour, 10g Yeast and 300ml Water in a bowl. \n",
      "2. Knead the dough for 10 minutes.\n",
      "3. Add 3g of Salt.\n",
      "4. Leave to rise for 2 hours.\n",
      "5. Bake at 200 degrees C for 30 minutes.\n"
     ]
    }
   ],
   "source": [
    "print(f'''1. Mix 500g of Flour, 10g Yeast and 300ml Water in a bowl. \n",
    "2. Knead the dough for 10 minutes.\n",
    "3. Add 3g of Salt.\n",
    "4. Leave to rise for 2 hours.\n",
    "5. Bake at 200 degrees C for 30 minutes.''')"
   ]
  },
  {
   "cell_type": "code",
   "execution_count": 8,
   "id": "c10d941f",
   "metadata": {},
   "outputs": [
    {
     "name": "stdout",
     "output_type": "stream",
     "text": [
      "milkjuice\n",
      "juice\n",
      "milk\n"
     ]
    }
   ],
   "source": [
    "glass1 = \"milk\"\n",
    "glass2 = \"juice\"\n",
    "\n",
    "glass3=glass1+glass2\n",
    "print(glass3)\n",
    "glass1=glass3[4:]\n",
    "print(glass1)\n",
    "glass2=glass3[:4]\n",
    "print(glass2)"
   ]
  },
  {
   "cell_type": "code",
   "execution_count": 2,
   "id": "12aa9e04",
   "metadata": {},
   "outputs": [
    {
     "name": "stdout",
     "output_type": "stream",
     "text": [
      "<class 'float'>\n",
      "734529.678\n"
     ]
    }
   ],
   "source": [
    "mystery = 734_529.678\n",
    "print(type(mystery))\n",
    "print(mystery)"
   ]
  }
 ],
 "metadata": {
  "kernelspec": {
   "display_name": "Python 3",
   "language": "python",
   "name": "python3"
  },
  "language_info": {
   "codemirror_mode": {
    "name": "ipython",
    "version": 3
   },
   "file_extension": ".py",
   "mimetype": "text/x-python",
   "name": "python",
   "nbconvert_exporter": "python",
   "pygments_lexer": "ipython3",
   "version": "3.12.0"
  }
 },
 "nbformat": 4,
 "nbformat_minor": 5
}
